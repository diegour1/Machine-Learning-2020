{
  "nbformat": 4,
  "nbformat_minor": 0,
  "metadata": {
    "colab": {
      "name": "ml-assign3-diusecher-esgantivar.ipynb",
      "provenance": [],
      "collapsed_sections": [],
      "toc_visible": true
    },
    "kernelspec": {
      "name": "python3",
      "display_name": "Python 3"
    }
  },
  "cells": [
    {
      "cell_type": "markdown",
      "metadata": {
        "id": "8FHRS9Xtj5En"
      },
      "source": [
        "# **Assignment 3, Machine Learning 2020**\n",
        "\n",
        "> Diego Useche Reyes, diusecher@unal.edu.co\n",
        "\n",
        "> Sneyder Gantiva, esgantivar@unal.edu.co\n",
        "\n"
      ]
    },
    {
      "cell_type": "markdown",
      "metadata": {
        "id": "w3X9J6DsoXJU"
      },
      "source": [
        "## Libraries"
      ]
    },
    {
      "cell_type": "code",
      "metadata": {
        "id": "PlJy3PS9oZmf",
        "colab": {
          "base_uri": "https://localhost:8080/",
          "height": 110
        },
        "outputId": "938a64fd-df17-49f8-dc86-66a2db5d9b6c"
      },
      "source": [
        "import pandas as pd\n",
        "import numpy as np\n",
        "from sklearn.model_selection import train_test_split\n",
        "import matplotlib.pyplot as plt\n",
        "from matplotlib.colors import ListedColormap\n",
        "import pylab as pl\n",
        "\n",
        "from sklearn.feature_extraction.text import CountVectorizer\n",
        "from sklearn.metrics.pairwise import cosine_similarity\n",
        "from sklearn.metrics.pairwise import chi2_kernel\n",
        "from sklearn.metrics.pairwise import polynomial_kernel, linear_kernel, rbf_kernel\n",
        "from sklearn import svm\n",
        "from sklearn.model_selection import GridSearchCV\n",
        "\n",
        "from sklearn.datasets import make_moons, make_circles\n",
        "\n",
        "!pip install colorama\n",
        "import colorama\n",
        "from colorama import Fore, Style\n"
      ],
      "execution_count": null,
      "outputs": [
        {
          "output_type": "stream",
          "text": [
            "Collecting colorama\n",
            "  Downloading https://files.pythonhosted.org/packages/c9/dc/45cdef1b4d119eb96316b3117e6d5708a08029992b2fee2c143c7a0a5cc5/colorama-0.4.3-py2.py3-none-any.whl\n",
            "Installing collected packages: colorama\n",
            "Successfully installed colorama-0.4.3\n"
          ],
          "name": "stdout"
        }
      ]
    },
    {
      "cell_type": "markdown",
      "metadata": {
        "id": "COoRFN-riBY9"
      },
      "source": [
        "## References"
      ]
    },
    {
      "cell_type": "markdown",
      "metadata": {
        "id": "lXeEgoZuiE5O"
      },
      "source": [
        "- The ploting function for problem 3 was taken from the notebook IIS-ML-svm_seleccion_de_modelos.pynb from the class [2020 ML class](https://fagonzalezo.github.io/ml-2020-1/) from UNAL Prof Fabio Gonzalez"
      ]
    },
    {
      "cell_type": "markdown",
      "metadata": {
        "id": "2cIJ41Xxy-mn"
      },
      "source": [
        "## Problem 1(a)\n",
        "\n",
        "Train an SVM for detecting whether a word belongs to English or Spanish.\n",
        "\n",
        "(a) Build training and test data sets. You can use the most frequent words in http://en.wiktionary.org/wiki/Wiktionary:Frequency_lists ) .Consider words at least 4\n",
        "characters long and ignore accents.\n",
        "\n",
        "Solution: \n",
        "\n",
        "English: The initial data set comes from the 10000 most common words in English data set, from the [Gutenberg project 2006](https://en.wiktionary.org/wiki/Wiktionary:Frequency_lists/PG/2006/04/1-10000)\n",
        "\n",
        "Spanish: The initial data set comes from the 10000 most common words from the  [RAE](http://corpus.rae.es/frec/10000_formas.TXT)\n",
        "\n",
        "We deleted special characters in both spanish and english and words with less three characters.\n",
        "\n",
        "After doing the cleaning and deleting the words we have a data set of 19001 words on both spanish and english, 9454 in english and 9547\n",
        "\n",
        "In total we have a training data set of 12730 words, and a testing data set of 6271\n"
      ]
    },
    {
      "cell_type": "code",
      "metadata": {
        "id": "IziqpdLbEKaL",
        "colab": {
          "base_uri": "https://localhost:8080/",
          "height": 221
        },
        "outputId": "4f635240-c470-4496-9fae-7b22f3751c9d"
      },
      "source": [
        "# Data Upload as pandas\n",
        "git_raw_url_dataset = \"https://raw.githubusercontent.com/esgantivar/ml-datasets/master/languages_words.csv\"\n",
        "words_df = pd.read_csv(git_raw_url_dataset)\n",
        "\n",
        "# Lower case the language column\n",
        "words_df['Language'] = words_df['Language'].str.lower()\n",
        "words_df['Language'] = words_df['Language'].str.strip()\n",
        "\n",
        "print(words_df.shape) #(768, 9)\n",
        "words_df.head()"
      ],
      "execution_count": null,
      "outputs": [
        {
          "output_type": "stream",
          "text": [
            "(7000, 4)\n"
          ],
          "name": "stdout"
        },
        {
          "output_type": "execute_result",
          "data": {
            "text/html": [
              "<div>\n",
              "<style scoped>\n",
              "    .dataframe tbody tr th:only-of-type {\n",
              "        vertical-align: middle;\n",
              "    }\n",
              "\n",
              "    .dataframe tbody tr th {\n",
              "        vertical-align: top;\n",
              "    }\n",
              "\n",
              "    .dataframe thead th {\n",
              "        text-align: right;\n",
              "    }\n",
              "</style>\n",
              "<table border=\"1\" class=\"dataframe\">\n",
              "  <thead>\n",
              "    <tr style=\"text-align: right;\">\n",
              "      <th></th>\n",
              "      <th>Index</th>\n",
              "      <th>Word</th>\n",
              "      <th>Length</th>\n",
              "      <th>Language</th>\n",
              "    </tr>\n",
              "  </thead>\n",
              "  <tbody>\n",
              "    <tr>\n",
              "      <th>0</th>\n",
              "      <td>1</td>\n",
              "      <td>that</td>\n",
              "      <td>4</td>\n",
              "      <td>english</td>\n",
              "    </tr>\n",
              "    <tr>\n",
              "      <th>1</th>\n",
              "      <td>2</td>\n",
              "      <td>with</td>\n",
              "      <td>4</td>\n",
              "      <td>english</td>\n",
              "    </tr>\n",
              "    <tr>\n",
              "      <th>2</th>\n",
              "      <td>3</td>\n",
              "      <td>which</td>\n",
              "      <td>5</td>\n",
              "      <td>english</td>\n",
              "    </tr>\n",
              "    <tr>\n",
              "      <th>3</th>\n",
              "      <td>4</td>\n",
              "      <td>have</td>\n",
              "      <td>4</td>\n",
              "      <td>english</td>\n",
              "    </tr>\n",
              "    <tr>\n",
              "      <th>4</th>\n",
              "      <td>5</td>\n",
              "      <td>from</td>\n",
              "      <td>4</td>\n",
              "      <td>english</td>\n",
              "    </tr>\n",
              "  </tbody>\n",
              "</table>\n",
              "</div>"
            ],
            "text/plain": [
              "   Index   Word  Length Language\n",
              "0      1   that       4  english\n",
              "1      2   with       4  english\n",
              "2      3  which       5  english\n",
              "3      4   have       4  english\n",
              "4      5   from       4  english"
            ]
          },
          "metadata": {
            "tags": []
          },
          "execution_count": 2
        }
      ]
    },
    {
      "cell_type": "code",
      "metadata": {
        "id": "IZSHXYBMsXE7",
        "colab": {
          "base_uri": "https://localhost:8080/",
          "height": 34
        },
        "outputId": "92416c77-9e51-46fe-91f5-a98cc5ce08b9"
      },
      "source": [
        "# Split the Data as pandas\n",
        "X = words_df['Word']\n",
        "y = words_df['Language']\n",
        "\n",
        "# One hot encode the language\n",
        "Y = list(y)\n",
        "Y = np.array([1 if y == 'english' else 0 for y in Y])\n",
        "\n",
        "# split the data with training and testing\n",
        "data_train, data_validation, target_train, target_validation = train_test_split(X, Y, test_size=0.33, random_state=42)\n",
        "\n",
        "data_train.shape , data_validation.shape , target_train.shape , target_validation.shape"
      ],
      "execution_count": null,
      "outputs": [
        {
          "output_type": "execute_result",
          "data": {
            "text/plain": [
              "((4690,), (2310,), (4690,), (2310,))"
            ]
          },
          "metadata": {
            "tags": []
          },
          "execution_count": 3
        }
      ]
    },
    {
      "cell_type": "code",
      "metadata": {
        "id": "Gy7l0vrwtdCs",
        "colab": {
          "base_uri": "https://localhost:8080/",
          "height": 119
        },
        "outputId": "66c0c924-5987-4bc1-f89f-5f9e3c0d2ba6"
      },
      "source": [
        "data_train.head()"
      ],
      "execution_count": null,
      "outputs": [
        {
          "output_type": "execute_result",
          "data": {
            "text/plain": [
              "6842    domicilio\n",
              "2103        china\n",
              "5500     intentar\n",
              "2646       safely\n",
              "3739        hemos\n",
              "Name: Word, dtype: object"
            ]
          },
          "metadata": {
            "tags": []
          },
          "execution_count": 4
        }
      ]
    },
    {
      "cell_type": "code",
      "metadata": {
        "id": "mDzXNOAKUO0s",
        "colab": {
          "base_uri": "https://localhost:8080/",
          "height": 34
        },
        "outputId": "e513f421-9cdf-4a2d-aeed-d6a999b5d826"
      },
      "source": [
        "target_train[:5]"
      ],
      "execution_count": null,
      "outputs": [
        {
          "output_type": "execute_result",
          "data": {
            "text/plain": [
              "array([0, 1, 0, 1, 0])"
            ]
          },
          "metadata": {
            "tags": []
          },
          "execution_count": 5
        }
      ]
    },
    {
      "cell_type": "markdown",
      "metadata": {
        "id": "ecLNjM6c2OI1"
      },
      "source": [
        "## Problem 1(b)\n",
        "\n",
        "Implement different string kernels:\n",
        "\n",
        "\n",
        "\n",
        "1.   **Histogram cosine kernel**: calculate a bag of n-grams representation (use the CountVectorizer from scikit-learn) and apply the cosine_similarity from scikit-learn.\n",
        "2.  **Histogram intersection**: calculate a bag of n-grams representation, normalize it (the\n",
        "sum of the bins must be equal to 1 ∀i, ||xi||1 = 1.) and calculate the sum of the\n",
        "minimum for each bin of the histogram.\n",
        "3. **χ2 kernel**: calculate a bag of n-grams representation and apply the chi2_kernel\n",
        "from scikit-learn.\n",
        "4. **SSK kernel**: use the code available at this repository https://github.com/helq/python-ssk.\n"
      ]
    },
    {
      "cell_type": "markdown",
      "metadata": {
        "id": "aEHZNs9bH1u-"
      },
      "source": [
        "### 1. Histogram cosine kernel\n",
        "\n",
        "We consider 2-grams of characters to create the vectorizer"
      ]
    },
    {
      "cell_type": "code",
      "metadata": {
        "id": "51XKygSLyA4D",
        "colab": {
          "base_uri": "https://localhost:8080/",
          "height": 34
        },
        "outputId": "26dd6c1e-59fa-4fb5-dacd-583a83278d3c"
      },
      "source": [
        "## Transform to bag of words representation.\n",
        "vectorizer = CountVectorizer(ngram_range = (1,1), analyzer = 'char')\n",
        "X1 = vectorizer.fit_transform(data_train)\n",
        "\n",
        "X1.shape"
      ],
      "execution_count": null,
      "outputs": [
        {
          "output_type": "execute_result",
          "data": {
            "text/plain": [
              "(4690, 26)"
            ]
          },
          "metadata": {
            "tags": []
          },
          "execution_count": 6
        }
      ]
    },
    {
      "cell_type": "markdown",
      "metadata": {
        "id": "Jr6fs2wkteF3"
      },
      "source": [
        "Calculate and storage n-grams: $(1,1), (1,2), (1,3)$ for train and test dataset"
      ]
    },
    {
      "cell_type": "code",
      "metadata": {
        "id": "q3K6BmN0A1yk"
      },
      "source": [
        "n_grams = [];\n",
        "for n in range(1,4):\n",
        "  vectorizer = CountVectorizer(ngram_range = (1,n), analyzer = 'char')\n",
        "  n_grams.append({\n",
        "      'train':vectorizer.fit_transform(data_train),\n",
        "      'test':vectorizer.transform(data_validation)\n",
        "  })"
      ],
      "execution_count": null,
      "outputs": []
    },
    {
      "cell_type": "markdown",
      "metadata": {
        "id": "OWh19IyEMKLl"
      },
      "source": [
        "We measure the cosine kernel between pairs of elements"
      ]
    },
    {
      "cell_type": "code",
      "metadata": {
        "id": "UkBtxgGOKx6X",
        "colab": {
          "base_uri": "https://localhost:8080/",
          "height": 34
        },
        "outputId": "077a0267-ae2b-4fdc-9138-57e9f3da5229"
      },
      "source": [
        "# Cosine similarity kernel\n",
        "K1 = cosine_similarity(X1)\n",
        "\n",
        "K1.shape"
      ],
      "execution_count": null,
      "outputs": [
        {
          "output_type": "execute_result",
          "data": {
            "text/plain": [
              "(4690, 4690)"
            ]
          },
          "metadata": {
            "tags": []
          },
          "execution_count": 8
        }
      ]
    },
    {
      "cell_type": "code",
      "metadata": {
        "id": "_B8_i2_LMjFf",
        "colab": {
          "base_uri": "https://localhost:8080/",
          "height": 102
        },
        "outputId": "764226b9-5c93-43d3-da75-bd526e474c1c"
      },
      "source": [
        "print(K1[:5,:5])"
      ],
      "execution_count": null,
      "outputs": [
        {
          "output_type": "stream",
          "text": [
            "[[1.         0.43386092 0.21004201 0.09901475 0.32539569]\n",
            " [0.43386092 1.         0.51639778 0.18257419 0.2       ]\n",
            " [0.21004201 0.51639778 1.         0.23570226 0.12909944]\n",
            " [0.09901475 0.18257419 0.23570226 1.         0.36514837]\n",
            " [0.32539569 0.2        0.12909944 0.36514837 1.        ]]\n"
          ],
          "name": "stdout"
        }
      ]
    },
    {
      "cell_type": "code",
      "metadata": {
        "id": "n7lQ1P6uBc0S"
      },
      "source": [
        "K1_n = [cosine_similarity(gram['train']) for gram in n_grams]"
      ],
      "execution_count": null,
      "outputs": []
    },
    {
      "cell_type": "markdown",
      "metadata": {
        "id": "M3TLLBZWcRv-"
      },
      "source": [
        "### 2. Histogram intersection"
      ]
    },
    {
      "cell_type": "code",
      "metadata": {
        "id": "PsOl5SaEv93l"
      },
      "source": [
        "'''\n",
        "Taken from: https://github.com/gmum/pykernels/blob/master/pykernels/regular.py\n",
        "'''\n",
        "def histogram_kernel(X_1, X_2):\n",
        "  _N1 = X_1/np.sum(X_1, axis=1).reshape(-1, 1)\n",
        "  _N2 = X_2/np.sum(X_2, axis=1).reshape(-1, 1)\n",
        "  _K = np.zeros((_N1.shape[0], _N2.shape[0]))\n",
        "  for d in range(_N1.shape[1]):\n",
        "    column_1 = _N1[:, d].reshape(-1, 1)\n",
        "    column_2 = _N2[:, d].reshape(-1, 1)\n",
        "    _K += np.minimum(column_1, column_2.T)   \n",
        "  return _K"
      ],
      "execution_count": null,
      "outputs": []
    },
    {
      "cell_type": "code",
      "metadata": {
        "id": "0zYnZAn-8O9J"
      },
      "source": [
        "K2_a = histogram_kernel(X1,X1)"
      ],
      "execution_count": null,
      "outputs": []
    },
    {
      "cell_type": "code",
      "metadata": {
        "id": "dyok3lqVuI38",
        "colab": {
          "base_uri": "https://localhost:8080/",
          "height": 374
        },
        "outputId": "113b00b8-e3fd-495e-ab5a-0b3932dc35d4"
      },
      "source": [
        "print(K2_a.shape)\n",
        "print(K2_a[:10,:10])"
      ],
      "execution_count": null,
      "outputs": [
        {
          "output_type": "stream",
          "text": [
            "(4690, 4690)\n",
            "[[1.         0.31111111 0.125      0.11111111 0.31111111 0.36111111\n",
            "  0.22222222 0.25396825 0.38888889 0.11111111]\n",
            " [0.31111111 1.         0.45       0.16666667 0.2        0.325\n",
            "  0.28571429 0.         0.33333333 0.2       ]\n",
            " [0.125      0.45       1.         0.25       0.125      0.375\n",
            "  0.25       0.26785714 0.375      0.375     ]\n",
            " [0.11111111 0.16666667 0.25       1.         0.33333333 0.25\n",
            "  0.45238095 0.28571429 0.5        0.33333333]\n",
            " [0.31111111 0.2        0.125      0.33333333 1.         0.25\n",
            "  0.34285714 0.42857143 0.5        0.        ]\n",
            " [0.36111111 0.325      0.375      0.25       0.25       1.\n",
            "  0.375      0.25       0.41666667 0.        ]\n",
            " [0.22222222 0.28571429 0.25       0.45238095 0.34285714 0.375\n",
            "  1.         0.57142857 0.5952381  0.14285714]\n",
            " [0.25396825 0.         0.26785714 0.28571429 0.42857143 0.25\n",
            "  0.57142857 1.         0.42857143 0.14285714]\n",
            " [0.38888889 0.33333333 0.375      0.5        0.5        0.41666667\n",
            "  0.5952381  0.42857143 1.         0.16666667]\n",
            " [0.11111111 0.2        0.375      0.33333333 0.         0.\n",
            "  0.14285714 0.14285714 0.16666667 1.        ]]\n"
          ],
          "name": "stdout"
        }
      ]
    },
    {
      "cell_type": "code",
      "metadata": {
        "id": "5QM4VYF1FGCM"
      },
      "source": [
        "K2_n = [histogram_kernel(gram['train'], gram['train']) for gram in n_grams]"
      ],
      "execution_count": null,
      "outputs": []
    },
    {
      "cell_type": "code",
      "metadata": {
        "id": "mZhDw4lhwWOd",
        "colab": {
          "base_uri": "https://localhost:8080/",
          "height": 238
        },
        "outputId": "a44a5ce7-4a13-40f8-e754-83a7ec640ccf"
      },
      "source": [
        "K2_n[0][:10]"
      ],
      "execution_count": null,
      "outputs": [
        {
          "output_type": "execute_result",
          "data": {
            "text/plain": [
              "array([[1.        , 0.31111111, 0.125     , ..., 0.27777778, 0.47474747,\n",
              "        0.25      ],\n",
              "       [0.31111111, 1.        , 0.45      , ..., 0.36666667, 0.36363636,\n",
              "        0.6       ],\n",
              "       [0.125     , 0.45      , 1.        , ..., 0.25      , 0.39772727,\n",
              "        0.5       ],\n",
              "       ...,\n",
              "       [0.25396825, 0.        , 0.26785714, ..., 0.        , 0.32467532,\n",
              "        0.        ],\n",
              "       [0.38888889, 0.33333333, 0.375     , ..., 0.5       , 0.53030303,\n",
              "        0.33333333],\n",
              "       [0.11111111, 0.2       , 0.375     , ..., 0.25      , 0.18181818,\n",
              "        0.25      ]])"
            ]
          },
          "metadata": {
            "tags": []
          },
          "execution_count": 15
        }
      ]
    },
    {
      "cell_type": "markdown",
      "metadata": {
        "id": "2-toBsJSM_52"
      },
      "source": [
        "### 3. χ2 kernel"
      ]
    },
    {
      "cell_type": "code",
      "metadata": {
        "id": "7U6pwFor-nlH"
      },
      "source": [
        "K3 = chi2_kernel(n_grams[0]['train'].todense(), n_grams[0]['train'].todense())"
      ],
      "execution_count": null,
      "outputs": []
    },
    {
      "cell_type": "code",
      "metadata": {
        "id": "M_puN3nr_Vbu",
        "colab": {
          "base_uri": "https://localhost:8080/",
          "height": 34
        },
        "outputId": "16192377-6ec7-415d-a995-10b5f9b2fa07"
      },
      "source": [
        "K3.shape"
      ],
      "execution_count": null,
      "outputs": [
        {
          "output_type": "execute_result",
          "data": {
            "text/plain": [
              "(4690, 4690)"
            ]
          },
          "metadata": {
            "tags": []
          },
          "execution_count": 17
        }
      ]
    },
    {
      "cell_type": "code",
      "metadata": {
        "id": "anvJQSxt_2CU"
      },
      "source": [
        "K3_n = [chi2_kernel(gram['train'].todense(),gram['train'].todense()) for gram in n_grams]"
      ],
      "execution_count": null,
      "outputs": []
    },
    {
      "cell_type": "code",
      "metadata": {
        "id": "Qn4tT3s7LaCf",
        "colab": {
          "base_uri": "https://localhost:8080/",
          "height": 34
        },
        "outputId": "f4138d1a-dae1-405c-a076-fc78a5cf7e72"
      },
      "source": [
        "K3_n[0].shape"
      ],
      "execution_count": null,
      "outputs": [
        {
          "output_type": "execute_result",
          "data": {
            "text/plain": [
              "(4690, 4690)"
            ]
          },
          "metadata": {
            "tags": []
          },
          "execution_count": 19
        }
      ]
    },
    {
      "cell_type": "code",
      "metadata": {
        "id": "-gV3wT9uLdtV",
        "colab": {
          "base_uri": "https://localhost:8080/",
          "height": 238
        },
        "outputId": "be93575e-34f2-4a99-84d1-9d0f0eae3980"
      },
      "source": [
        "K3_n[0][:10]"
      ],
      "execution_count": null,
      "outputs": [
        {
          "output_type": "execute_result",
          "data": {
            "text/plain": [
              "array([[1.00000000e+00, 1.23409804e-04, 8.31528719e-07, ...,\n",
              "        8.84269887e-05, 4.68175812e-04, 4.53999298e-05],\n",
              "       [1.23409804e-04, 1.00000000e+00, 1.77610355e-03, ...,\n",
              "        1.77610355e-03, 8.84269887e-05, 4.97870684e-02],\n",
              "       [8.31528719e-07, 1.77610355e-03, 1.00000000e+00, ...,\n",
              "        8.84269887e-05, 3.25304712e-05, 4.82794999e-03],\n",
              "       ...,\n",
              "       [1.19672916e-05, 6.14421235e-06, 3.25304712e-05, ...,\n",
              "        2.26032941e-06, 1.19672916e-05, 1.67017008e-05],\n",
              "       [3.35462628e-04, 9.11881966e-04, 3.35462628e-04, ...,\n",
              "        9.40356255e-03, 1.77610355e-03, 2.47875218e-03],\n",
              "       [3.25304712e-05, 9.11881966e-04, 6.53391980e-04, ...,\n",
              "        6.53391980e-04, 3.25304712e-05, 2.47875218e-03]])"
            ]
          },
          "metadata": {
            "tags": []
          },
          "execution_count": 20
        }
      ]
    },
    {
      "cell_type": "markdown",
      "metadata": {
        "id": "dVViMQWFhcww"
      },
      "source": [
        "### 4. SSK Kernel\n",
        "\n",
        "Use the code available at this repository https://github.com/helq/python-ssk"
      ]
    },
    {
      "cell_type": "markdown",
      "metadata": {
        "id": "MMnSUh-Yhwwe"
      },
      "source": [
        "Install cython to local environment via pip"
      ]
    },
    {
      "cell_type": "code",
      "metadata": {
        "id": "OGDIhA0ihuhH",
        "colab": {
          "base_uri": "https://localhost:8080/",
          "height": 34
        },
        "outputId": "4dcedbb6-f119-4ca4-a87a-a71c97b3a879"
      },
      "source": [
        "!pip install cython\n",
        "%load_ext Cython"
      ],
      "execution_count": null,
      "outputs": [
        {
          "output_type": "stream",
          "text": [
            "Requirement already satisfied: cython in /usr/local/lib/python3.6/dist-packages (0.29.17)\n"
          ],
          "name": "stdout"
        }
      ]
    },
    {
      "cell_type": "code",
      "metadata": {
        "id": "hmHg9rmriIGu"
      },
      "source": [
        "%%cython\n",
        "'''\n",
        "copy from https://github.com/helq/python-ssk/blob/master/string_kernel.pyx\n",
        "'''\n",
        "import numpy as np\n",
        "cimport numpy as np\n",
        "\n",
        "from cpython cimport array\n",
        "import array\n",
        "\n",
        "cimport cython\n",
        "\n",
        "def ssk(s, t, int n, float lbda, accum=False):\n",
        "    \"\"\"s and t are strings, either numpy.str_ or python str, or a list of chars\"\"\"\n",
        "    s_array = array.array('l', [ord(c) for c in s])\n",
        "    t_array = array.array('l', [ord(c) for c in t])\n",
        "    return ssk_array(s_array, t_array, n, lbda, accum)\n",
        "\n",
        "# Kernel defined by Lodhi et al. (2002)\n",
        "@cython.boundscheck(False) # turn off bounds-checking for entire function\n",
        "@cython.wraparound(False)  # turn off negative index wrapping for entire function\n",
        "def ssk_array(array.array s_, array.array t_, int n, float lbda, accum=False):\n",
        "    cdef int lens, lent\n",
        "    cdef int i, sj, tk\n",
        "    cdef float toret\n",
        "    cdef long[:] s # this reduces the overhead 10x fold!!!\n",
        "    cdef long[:] t\n",
        "\n",
        "    s = s_ if s_.typecode == 'l' else array.array('l', [int(c) for c in s_])\n",
        "    t = t_ if t_.typecode == 'l' else array.array('l', [int(c) for c in t_])\n",
        "\n",
        "    lens, lent = len(s), len(t)\n",
        "    #k_prim = (-1)*np.ones( (n+1, lens, lent) )\n",
        "    cdef np.ndarray[np.float64_t, ndim=3] \\\n",
        "        k_prim = np.zeros( (n, lens, lent), dtype=np.float )\n",
        "\n",
        "    k_prim[0,:,:] = 1\n",
        "\n",
        "    for i in range(1,n):\n",
        "        for sj in range(i,lens):\n",
        "            toret = 0.\n",
        "            for tk in range(i,lent):\n",
        "                if s[sj-1]==t[tk-1]: # trick taken from shogun implemantion of SSK\n",
        "                    toret = lbda * (toret + lbda*k_prim[i-1,sj-1,tk-1])\n",
        "                else:\n",
        "                    toret *= lbda\n",
        "                k_prim[i,sj,tk] = toret + lbda * k_prim[i, sj-1, tk]\n",
        "\n",
        "    cdef int start = 0 if accum else n-1\n",
        "    cdef float k = 0.\n",
        "\n",
        "    for i in range(n):\n",
        "        for sj in range(i,lens):\n",
        "            for tk in range(i,lent):\n",
        "                if s[sj]==t[tk]:\n",
        "                    k += lbda*lbda*k_prim[i,sj,tk]\n",
        "\n",
        "    # print( [len(list(i for (sj,tk,i) in k_prim if i==m-1)) for m in range(n)] )\n",
        "    return k\n",
        "\n",
        "def string_kernel(xs, ys, n, lbda):\n",
        "    \"\"\"xs and ys are numpy arrays of strings or arrays of ints, n an integer and lbda a bool\"\"\"\n",
        "    if len(xs.shape) != 2 or len(ys.shape) != 2 or xs.shape[1] != 1 or ys.shape[1] != 1:\n",
        "        raise \"The shape of the features is wrong, it must be (n,1)\"\n",
        "\n",
        "    cdef int lenxs, lenys\n",
        "    cdef int i, j\n",
        "    cdef np.ndarray[np.float64_t, ndim=2] mat, mat_xs, mat_ys\n",
        "    lenxs, lenys = xs.shape[0], ys.shape[0]\n",
        "\n",
        "    mat = np.zeros( (lenxs, lenys) )\n",
        "\n",
        "    ssk_fun = ssk_array if xs.dtype == 'O' and isinstance(xs[0,0], array.array) else ssk\n",
        "\n",
        "    # If both lists are equal, then the resulting matrix is symetric, there is no need to\n",
        "    # calculate the hole thing\n",
        "    if lenxs == lenys and np.array_equal(xs, ys):\n",
        "        for i in range(lenxs):\n",
        "            for j in range(i,lenys):\n",
        "                mat[j,i] = mat[i,j] = ssk_fun(xs[i,0], ys[j,0], n, lbda, accum=True)\n",
        "\n",
        "        mat_xs = mat_ys = mat.diagonal().reshape( (lenxs, 1) )\n",
        "\n",
        "    else:\n",
        "        for i in range(lenxs):\n",
        "            for j in range(lenys):\n",
        "                mat[i,j] = ssk_fun(xs[i,0], ys[j,0], n, lbda, accum=True)\n",
        "\n",
        "        mat_xs = np.zeros( (lenxs, 1) )\n",
        "        mat_ys = np.zeros( (lenys, 1) )\n",
        "\n",
        "        for i in range(lenxs):\n",
        "            mat_xs[i] = ssk_fun(xs[i,0], xs[i,0], n, lbda, accum=True)\n",
        "        for j in range(lenys):\n",
        "            mat_ys[j] = ssk_fun(ys[j,0], ys[j,0], n, lbda, accum=True)\n",
        "\n",
        "    return np.divide(mat, np.sqrt(mat_ys.T * mat_xs))"
      ],
      "execution_count": null,
      "outputs": []
    },
    {
      "cell_type": "code",
      "metadata": {
        "id": "O7KHkE1liPlg"
      },
      "source": [
        "def get_ssk_kernel_for_scikit(max_substring, lambda_decay):\n",
        "    def strker(il,ir):\n",
        "        l = np.array(il).reshape( (len(il), 1) )\n",
        "        r = np.array(ir).reshape( (len(ir), 1) )\n",
        "        return string_kernel(l, r, max_substring, lambda_decay)\n",
        "    return strker\n",
        "\n",
        "def ssk_kernel(lambda_decay, il, ir):\n",
        "    l = np.array(il).reshape( (len(il), 1) )\n",
        "    r = np.array(ir).reshape( (len(ir), 1) )\n",
        "    return string_kernel(l, r, 2, lambda_decay)\n",
        "\n",
        "def custom_ssk_kernel(lambda_decay):\n",
        "    def strker(il,ir):\n",
        "        l = np.array(il).reshape( (len(il), 1) )\n",
        "        r = np.array(ir).reshape( (len(ir), 1) )\n",
        "        return string_kernel(l, r, 2, lambda_decay)\n",
        "    return strker\n",
        "\n",
        "\n",
        "lambda_decay = 1\n",
        "max_substring = 4\n",
        "\n",
        "my_ssk_kernel = get_ssk_kernel_for_scikit(lambda_decay, max_substring)\n",
        "\n",
        "custom_ssk_025 = custom_ssk_kernel(0.25)\n",
        "custom_ssk_05 = custom_ssk_kernel(0.5)\n",
        "custom_ssk_075 = custom_ssk_kernel(0.75)\n",
        "custom_ssk_1 = custom_ssk_kernel(1)"
      ],
      "execution_count": null,
      "outputs": []
    },
    {
      "cell_type": "code",
      "metadata": {
        "id": "dtK8EhaOZkqb",
        "colab": {
          "base_uri": "https://localhost:8080/",
          "height": 102
        },
        "outputId": "010473f1-fe36-467c-af67-3bb8132e16eb"
      },
      "source": [
        "xs = np.array( [\"cat\", \"car\", \"cart\", \"camp\", \"shard\"] ).reshape( (5,1) )\n",
        "ys = np.array( [\"a\", \"cd\"] ).reshape( (2,1) )\n",
        "print( string_kernel(xs, ys, 2,1.) )"
      ],
      "execution_count": null,
      "outputs": [
        {
          "output_type": "stream",
          "text": [
            "[[0.40824829 0.23570226]\n",
            " [0.40824829 0.23570226]\n",
            " [0.31622777 0.18257419]\n",
            " [0.31622777 0.18257419]\n",
            " [0.25819889 0.1490712 ]]\n"
          ],
          "name": "stdout"
        }
      ]
    },
    {
      "cell_type": "code",
      "metadata": {
        "id": "wFJCG3yacD0Y"
      },
      "source": [
        "data_ssk = data_train.to_numpy()"
      ],
      "execution_count": null,
      "outputs": []
    },
    {
      "cell_type": "code",
      "metadata": {
        "id": "u8_Q9kjWgmee",
        "colab": {
          "base_uri": "https://localhost:8080/",
          "height": 51
        },
        "outputId": "190377cf-234d-4186-9025-f1df562a2bc4"
      },
      "source": [
        "data_ssk"
      ],
      "execution_count": null,
      "outputs": [
        {
          "output_type": "execute_result",
          "data": {
            "text/plain": [
              "array(['domicilio', 'china', 'intentar', ..., 'maxima', 'comerciales',\n",
              "       'vain'], dtype=object)"
            ]
          },
          "metadata": {
            "tags": []
          },
          "execution_count": 27
        }
      ]
    },
    {
      "cell_type": "code",
      "metadata": {
        "id": "3_tJ7qxkcou9"
      },
      "source": [
        "K4 = custom_ssk_025(data_ssk, data_ssk)"
      ],
      "execution_count": null,
      "outputs": []
    },
    {
      "cell_type": "code",
      "metadata": {
        "id": "PezaAj5Jg7xF",
        "colab": {
          "base_uri": "https://localhost:8080/",
          "height": 34
        },
        "outputId": "d1f7e3c3-365f-4d78-cb43-e5a4cd952210"
      },
      "source": [
        "K4.shape"
      ],
      "execution_count": null,
      "outputs": [
        {
          "output_type": "execute_result",
          "data": {
            "text/plain": [
              "(4690, 4690)"
            ]
          },
          "metadata": {
            "tags": []
          },
          "execution_count": 29
        }
      ]
    },
    {
      "cell_type": "code",
      "metadata": {
        "id": "FNlc1wqVhBTN",
        "colab": {
          "base_uri": "https://localhost:8080/",
          "height": 238
        },
        "outputId": "e6627ceb-9bef-4b81-b165-e9b018af8a84"
      },
      "source": [
        "K4[:10]"
      ],
      "execution_count": null,
      "outputs": [
        {
          "output_type": "execute_result",
          "data": {
            "text/plain": [
              "array([[1.        , 0.41771662, 0.20166137, ..., 0.3692156 , 0.55154638,\n",
              "        0.34940897],\n",
              "       [0.41771662, 1.        , 0.50107347, ..., 0.40498837, 0.4440706 ,\n",
              "        0.65177351],\n",
              "       [0.20166137, 0.50107347, 1.        , ..., 0.26143162, 0.35608152,\n",
              "        0.55898073],\n",
              "       ...,\n",
              "       [0.23266736, 0.        , 0.27489262, ..., 0.        , 0.32865599,\n",
              "        0.        ],\n",
              "       [0.47493799, 0.3492701 , 0.33604355, ..., 0.61686857, 0.61582013,\n",
              "        0.38812486],\n",
              "       [0.19117751, 0.17466851, 0.34586582, ..., 0.24783919, 0.31164086,\n",
              "        0.19561602]])"
            ]
          },
          "metadata": {
            "tags": []
          },
          "execution_count": 30
        }
      ]
    },
    {
      "cell_type": "code",
      "metadata": {
        "id": "Mkwc6tRe7PUi"
      },
      "source": [
        "lambdas = [0.25, 0.5, 0.75, 1]\n",
        "K4_n = [ssk_kernel(lam, data_ssk, data_ssk) for lam in lambdas]"
      ],
      "execution_count": null,
      "outputs": []
    },
    {
      "cell_type": "code",
      "metadata": {
        "id": "UcllvSq279iE",
        "colab": {
          "base_uri": "https://localhost:8080/",
          "height": 34
        },
        "outputId": "fca20876-f968-4809-bf22-b347a868a3a2"
      },
      "source": [
        "K4_n[0].shape"
      ],
      "execution_count": null,
      "outputs": [
        {
          "output_type": "execute_result",
          "data": {
            "text/plain": [
              "(4690, 4690)"
            ]
          },
          "metadata": {
            "tags": []
          },
          "execution_count": 32
        }
      ]
    },
    {
      "cell_type": "code",
      "metadata": {
        "id": "0iKn3PDn7-Db",
        "colab": {
          "base_uri": "https://localhost:8080/",
          "height": 238
        },
        "outputId": "f6c01d36-d046-4cdd-f258-fa5dd438d2d1"
      },
      "source": [
        "K4_n[0][:10]"
      ],
      "execution_count": null,
      "outputs": [
        {
          "output_type": "execute_result",
          "data": {
            "text/plain": [
              "array([[1.        , 0.41771662, 0.20166137, ..., 0.3692156 , 0.55154638,\n",
              "        0.34940897],\n",
              "       [0.41771662, 1.        , 0.50107347, ..., 0.40498837, 0.4440706 ,\n",
              "        0.65177351],\n",
              "       [0.20166137, 0.50107347, 1.        , ..., 0.26143162, 0.35608152,\n",
              "        0.55898073],\n",
              "       ...,\n",
              "       [0.23266736, 0.        , 0.27489262, ..., 0.        , 0.32865599,\n",
              "        0.        ],\n",
              "       [0.47493799, 0.3492701 , 0.33604355, ..., 0.61686857, 0.61582013,\n",
              "        0.38812486],\n",
              "       [0.19117751, 0.17466851, 0.34586582, ..., 0.24783919, 0.31164086,\n",
              "        0.19561602]])"
            ]
          },
          "metadata": {
            "tags": []
          },
          "execution_count": 33
        }
      ]
    },
    {
      "cell_type": "markdown",
      "metadata": {
        "id": "jJsXikEEg3yj"
      },
      "source": [
        "## Problem 1(c)\n",
        "\n",
        "Use scikit-learn to train different SVMs using precomputed kernels. Use cross validation to find appropriate regularization parameters plotting the training and validation error vs. the regularization parameter. Use a logarithmic scale for $C$, $\\{2^{-15} ,2^{-14},...,2^{10}\\}$. Try different configurations of the parameters (in particular different $n$ values for the $n$-grams)."
      ]
    },
    {
      "cell_type": "markdown",
      "metadata": {
        "id": "gKRZFVzuiyf0"
      },
      "source": [
        "We use the function GridSearchCV to apply cross validation with cv parameter equal to 5"
      ]
    },
    {
      "cell_type": "code",
      "metadata": {
        "id": "GpwinlQUszLj"
      },
      "source": [
        "'''\n",
        "Inspired from: https://scikit-learn.org/stable/auto_examples/svm/plot_svm_scale_c.html\n",
        "'''\n",
        "def get_scores(kernel, Y, C):\n",
        "  '''\n",
        "  kernel: Precomputed kernel,\n",
        "  Y: target train\n",
        "  C: set of regularization parameters\n",
        "  '''\n",
        "  _clf = svm.SVC(kernel='precomputed')\n",
        "  _grid = GridSearchCV(_clf, cv=5, param_grid={'C': C}, return_train_score=True)\n",
        "  _grid.fit(kernel, Y)\n",
        "  _scores = _grid.cv_results_['mean_test_score']\n",
        "  max_train = np.argmax(_grid.cv_results_['mean_train_score'])\n",
        "  max_test = np.argmax(_grid.cv_results_['mean_test_score'])\n",
        "  return {\n",
        "      'C': C,\n",
        "      'train': {\n",
        "          'scores': _grid.cv_results_['mean_train_score'],\n",
        "          'error': 1 - _grid.cv_results_['mean_train_score'],\n",
        "          'C': C[max_train],\n",
        "          'score':  _grid.cv_results_['mean_train_score'][max_train]\n",
        "      },\n",
        "      'validation': {\n",
        "          'scores': _grid.cv_results_['mean_test_score'],\n",
        "          'error': 1 - _grid.cv_results_['mean_test_score'],\n",
        "          'C': C[max_test],\n",
        "          'score':  _grid.cv_results_['mean_test_score'][max_test]\n",
        "      }\n",
        "  }\n",
        "\n",
        "def plot_rp(d, kernel_name, param, suffix='gram'):\n",
        "  '''\n",
        "  d: Results from get_scores\n",
        "  kernel_name: Title to plot\n",
        "  param: n_gram\n",
        "  '''\n",
        "  fig, axes = plt.subplots( figsize=(10, 6))\n",
        "  axes.set_xlabel('Regularization Parameter')\n",
        "  axes.set_ylabel('Error')\n",
        "  axes.set_title(f'Kernel: {kernel_name}, {param}-{suffix}')\n",
        "  x_box = min(min(d['train']['error']), min(d['validation']['error']))\n",
        "  axes.text(2 ** (-14), x_box, f\"Best Regularization parameter:\\nTrain C : {d['train']['C']}, Error: {round(1 -  d['train']['score'],4)}\\nTest  C : {d['validation']['C']}, Error: {round(1 -  d['validation']['score'],4)}\",\n",
        "          bbox={'facecolor': 'white', 'alpha': 0.5, 'pad': 10})\n",
        "  colors = ['navy', 'red', 'darkorange']\n",
        "  axes.semilogx(d['C'], d['train']['error'], color='red', label=f'Train')\n",
        "  axes.semilogx(d['C'], d['validation']['error'], color='navy', label=f'Validation')  \n",
        "  plt.legend()\n",
        "  plt.show()\n",
        "\n",
        "\n",
        "def reg_parameters(title, kernels, Y):\n",
        "  '''\n",
        "  title: Title for plot\n",
        "  kernels: Set of precomputed kernels\n",
        "  Y: Target\n",
        "  '''\n",
        "  cs = [2**(i) for i in range(-15, 11)]\n",
        "  for idx, K in enumerate(kernels):\n",
        "    scores = get_scores(K, Y, cs)\n",
        "    plot_rp(scores, title, idx + 1)"
      ],
      "execution_count": null,
      "outputs": []
    },
    {
      "cell_type": "code",
      "metadata": {
        "id": "Jg7cb5ch7Tdf",
        "colab": {
          "base_uri": "https://localhost:8080/",
          "height": 1000
        },
        "outputId": "99fc9d24-56de-46ed-d546-8ab7109b96a0"
      },
      "source": [
        "reg_parameters('Histogram cosine', K1_n, target_train)"
      ],
      "execution_count": null,
      "outputs": [
        {
          "output_type": "display_data",
          "data": {
            "image/png": "[encoded data removed]",
            "text/plain": [
              "<Figure size 720x432 with 1 Axes>"
            ]
          },
          "metadata": {
            "tags": [],
            "needs_background": "light"
          }
        },
        {
          "output_type": "display_data",
          "data": {
            "image/png": "[encoded data removed]",
            "text/plain": [
              "<Figure size 720x432 with 1 Axes>"
            ]
          },
          "metadata": {
            "tags": [],
            "needs_background": "light"
          }
        },
        {
          "output_type": "display_data",
          "data": {
            "image/png": "[encoded data removed]",
            "text/plain": [
              "<Figure size 720x432 with 1 Axes>"
            ]
          },
          "metadata": {
            "tags": [],
            "needs_background": "light"
          }
        }
      ]
    },
    {
      "cell_type": "code",
      "metadata": {
        "id": "yAE-0cCm838X",
        "colab": {
          "base_uri": "https://localhost:8080/",
          "height": 1000
        },
        "outputId": "61f9947d-fa55-41f2-badf-56a267bb172e"
      },
      "source": [
        "reg_parameters('Histogram intersection', K2_n, target_train)"
      ],
      "execution_count": null,
      "outputs": [
        {
          "output_type": "display_data",
          "data": {
            "image/png": "[encoded data removed]",
            "text/plain": [
              "<Figure size 720x432 with 1 Axes>"
            ]
          },
          "metadata": {
            "tags": [],
            "needs_background": "light"
          }
        },
        {
          "output_type": "display_data",
          "data": {
            "image/png": "[encoded data removed]",
            "text/plain": [
              "<Figure size 720x432 with 1 Axes>"
            ]
          },
          "metadata": {
            "tags": [],
            "needs_background": "light"
          }
        },
        {
          "output_type": "display_data",
          "data": {
            "image/png": "[encoded data removed]",
            "text/plain": [
              "<Figure size 720x432 with 1 Axes>"
            ]
          },
          "metadata": {
            "tags": [],
            "needs_background": "light"
          }
        }
      ]
    },
    {
      "cell_type": "code",
      "metadata": {
        "id": "oMAKHNQZCJsv",
        "colab": {
          "base_uri": "https://localhost:8080/",
          "height": 1000
        },
        "outputId": "49b8c67b-98b1-4542-8b6c-c11af51a0ac6"
      },
      "source": [
        "reg_parameters('χ2', K3_n, target_train)"
      ],
      "execution_count": null,
      "outputs": [
        {
          "output_type": "display_data",
          "data": {
            "image/png": "[encoded data removed]",
            "text/plain": [
              "<Figure size 720x432 with 1 Axes>"
            ]
          },
          "metadata": {
            "tags": [],
            "needs_background": "light"
          }
        },
        {
          "output_type": "display_data",
          "data": {
            "image/png": "[encoded data removed]",
            "text/plain": [
              "<Figure size 720x432 with 1 Axes>"
            ]
          },
          "metadata": {
            "tags": [],
            "needs_background": "light"
          }
        },
        {
          "output_type": "display_data",
          "data": {
            "image/png": "[encoded data removed]",
            "text/plain": [
              "<Figure size 720x432 with 1 Axes>"
            ]
          },
          "metadata": {
            "tags": [],
            "needs_background": "light"
          }
        }
      ]
    },
    {
      "cell_type": "code",
      "metadata": {
        "id": "5BMjUL3m_QtA"
      },
      "source": [
        "def reg_parameters_ssk(title, kernels, params, Y):\n",
        "  '''\n",
        "  title: Title for plot\n",
        "  kernels: Set of precomputed kernels\n",
        "  Y: Target\n",
        "  '''\n",
        "  cs = [2**(i) for i in range(-15, 11)]\n",
        "  for idx, K in enumerate(kernels):\n",
        "    scores = get_scores(K, Y, cs)\n",
        "    plot_rp(scores, title, params[idx], 'lambda')"
      ],
      "execution_count": null,
      "outputs": []
    },
    {
      "cell_type": "code",
      "metadata": {
        "id": "0Qx_zuU-hxfO",
        "colab": {
          "base_uri": "https://localhost:8080/",
          "height": 1000
        },
        "outputId": "2e5a8cc7-8259-4f81-ddcb-64c06b58389a"
      },
      "source": [
        "reg_parameters_ssk('SSK', K4_n, [0.25, 0.5, 0.75, 1], target_train)"
      ],
      "execution_count": null,
      "outputs": [
        {
          "output_type": "display_data",
          "data": {
            "image/png": "[encoded data removed]",
            "text/plain": [
              "<Figure size 720x432 with 1 Axes>"
            ]
          },
          "metadata": {
            "tags": [],
            "needs_background": "light"
          }
        },
        {
          "output_type": "display_data",
          "data": {
            "image/png": "[encoded data removed]",
            "text/plain": [
              "<Figure size 720x432 with 1 Axes>"
            ]
          },
          "metadata": {
            "tags": [],
            "needs_background": "light"
          }
        },
        {
          "output_type": "display_data",
          "data": {
            "image/png": "[encoded data removed]",
            "text/plain": [
              "<Figure size 720x432 with 1 Axes>"
            ]
          },
          "metadata": {
            "tags": [],
            "needs_background": "light"
          }
        },
        {
          "output_type": "display_data",
          "data": {
            "image/png": "[encoded data removed]",
            "text/plain": [
              "<Figure size 720x432 with 1 Axes>"
            ]
          },
          "metadata": {
            "tags": [],
            "needs_background": "light"
          }
        }
      ]
    },
    {
      "cell_type": "markdown",
      "metadata": {
        "id": "V-xM24bVhicf"
      },
      "source": [
        "## Problem 1(d)\n",
        "\n",
        "Evaluate the performance of the SVMs in the test data set:\n",
        "* Report the results in a table for the different evaluated configurations.\n",
        "* Illustrate examples of errors (English words mistaken as Spanish, Spanish words\n",
        "mistaken as English). Give a possible explanation for these mistakes.\n",
        "* Discuss the results.\n"
      ]
    },
    {
      "cell_type": "code",
      "metadata": {
        "id": "9AvBxQyRTHoF"
      },
      "source": [
        "def evaluate_svm(kernel_function, X_train, Y_train, X_test, Y_test, C, kernel_name, config_name):\n",
        "  _clf = svm.SVC(kernel=kernel_function, C=C)\n",
        "  _clf.fit(X_train, Y_train)\n",
        "  predicted = _clf.predict(X_test)\n",
        "  nt = len(Y_test)\n",
        "  errors = np.sum(predicted != Y_test)\n",
        "  accuracy = 1-(errors/nt)\n",
        "  return {\n",
        "        'kernel': kernel_name,\n",
        "        'config': config_name,\n",
        "        'C': C,\n",
        "        'accuracy': accuracy\n",
        "    }\n"
      ],
      "execution_count": null,
      "outputs": []
    },
    {
      "cell_type": "markdown",
      "metadata": {
        "id": "UDXMA8dAEdLY"
      },
      "source": [
        "### Configurations to evaluate\n",
        "\n",
        "|**Kernel**   |Configuration|Regularization Parameter|\n",
        "|---|:-:|:-:|\n",
        "|Histogram Cosine|  1-gram |  8 |\n",
        "|Histogram Cosine|  2-gram |  32 |\n",
        "|Histogram Cosine|  3-gram |  4 |\n",
        "|Histogram Intersection|  1-gram |  1 |\n",
        "|Histogram Intersection|  2-gram |  4 |\n",
        "|Histogram Intersection|  3-gram |  4 |\n",
        "|χ2|  1-gram |  0.5 |\n",
        "|χ2|  2-gram |  2 |\n",
        "|χ2|  3-gram |  2 |\n",
        "|SSK|  $\\lambda = 0.25$, max substring = 4  |  128 |\n",
        "|SSK|  $\\lambda = 0.50$, max substring = 4  |  32 |\n",
        "|SSK|  $\\lambda = 0.75$, max substring = 4 |  8 |\n",
        "|SSK|  $\\lambda = 1.00$, max substring = 4  |  4 |"
      ]
    },
    {
      "cell_type": "code",
      "metadata": {
        "id": "UU-3SdbqJ6fb",
        "colab": {
          "base_uri": "https://localhost:8080/",
          "height": 85
        },
        "outputId": "dd659304-f817-4134-edf7-948ac88d8c17"
      },
      "source": [
        "'''\n",
        "  kernel: Histogram Cosine\n",
        "  Configuration: 1-gram\n",
        "  Regularization Parameter: 8\n",
        "'''\n",
        "evaluate_svm(\n",
        "    kernel_function=cosine_similarity, \n",
        "    X_train=n_grams[0]['train'],\n",
        "    Y_train=target_train,\n",
        "    X_test=n_grams[0]['test'],\n",
        "    Y_test=target_validation, \n",
        "    config_name='1-gram',\n",
        "    kernel_name='Histogram Cosine',\n",
        "    C=8\n",
        "  )"
      ],
      "execution_count": null,
      "outputs": [
        {
          "output_type": "execute_result",
          "data": {
            "text/plain": [
              "{'C': 8,\n",
              " 'accuracy': 0.7722943722943723,\n",
              " 'config': '1-gram',\n",
              " 'kernel': 'Histogram Cosine'}"
            ]
          },
          "metadata": {
            "tags": []
          },
          "execution_count": 43
        }
      ]
    },
    {
      "cell_type": "markdown",
      "metadata": {
        "id": "92wz2Ge6J0tN"
      },
      "source": [
        "### Histogram Cosine"
      ]
    },
    {
      "cell_type": "code",
      "metadata": {
        "id": "F_CfZjWAJCgU"
      },
      "source": [
        "configs_cosine = [{\n",
        "    'kernel_function': cosine_similarity, \n",
        "    'X_train': n_grams[0]['train'],\n",
        "    'Y_train': target_train,\n",
        "    'X_test': n_grams[0]['test'],\n",
        "    'Y_test': target_validation, \n",
        "    'config_name': '1-gram',\n",
        "    'kernel_name': 'Histogram Cosine',\n",
        "    'C': 8\n",
        "},{\n",
        "    'kernel_function': cosine_similarity, \n",
        "    'X_train': n_grams[1]['train'],\n",
        "    'Y_train': target_train,\n",
        "    'X_test': n_grams[1]['test'],\n",
        "    'Y_test': target_validation, \n",
        "    'config_name': '2-gram',\n",
        "    'kernel_name': 'Histogram Cosine',\n",
        "    'C': 32\n",
        "},{\n",
        "    'kernel_function': cosine_similarity, \n",
        "    'X_train': n_grams[2]['train'],\n",
        "    'Y_train': target_train,\n",
        "    'X_test': n_grams[2]['test'],\n",
        "    'Y_test': target_validation, \n",
        "    'config_name': '3-gram',\n",
        "    'kernel_name': 'Histogram Cosine',\n",
        "    'C': 4\n",
        "}]"
      ],
      "execution_count": null,
      "outputs": []
    },
    {
      "cell_type": "code",
      "metadata": {
        "id": "HDhTjmGwiyRm",
        "colab": {
          "base_uri": "https://localhost:8080/",
          "height": 221
        },
        "outputId": "9b919cf1-5ab4-49b3-99fb-367121cb4f62"
      },
      "source": [
        "[evaluate_svm(**config) for config in configs_cosine]"
      ],
      "execution_count": null,
      "outputs": [
        {
          "output_type": "execute_result",
          "data": {
            "text/plain": [
              "[{'C': 8,\n",
              "  'accuracy': 0.7722943722943723,\n",
              "  'config': '1-gram',\n",
              "  'kernel': 'Histogram Cosine'},\n",
              " {'C': 32,\n",
              "  'accuracy': 0.9086580086580087,\n",
              "  'config': '2-gram',\n",
              "  'kernel': 'Histogram Cosine'},\n",
              " {'C': 4,\n",
              "  'accuracy': 0.9246753246753247,\n",
              "  'config': '3-gram',\n",
              "  'kernel': 'Histogram Cosine'}]"
            ]
          },
          "metadata": {
            "tags": []
          },
          "execution_count": 45
        }
      ]
    },
    {
      "cell_type": "markdown",
      "metadata": {
        "id": "o1-DHR--ODYJ"
      },
      "source": [
        "### Histogram Intersection"
      ]
    },
    {
      "cell_type": "code",
      "metadata": {
        "id": "t7BzkUTGKC_b"
      },
      "source": [
        "configs_histogram = [{\n",
        "    'kernel_function': histogram_kernel, \n",
        "    'X_train': n_grams[0]['train'],\n",
        "    'Y_train': target_train,\n",
        "    'X_test': n_grams[0]['test'],\n",
        "    'Y_test': target_validation, \n",
        "    'config_name': '1-gram',\n",
        "    'kernel_name': 'Histogram Intersection',\n",
        "    'C': 1\n",
        "},{\n",
        "    'kernel_function': histogram_kernel, \n",
        "    'X_train': n_grams[1]['train'],\n",
        "    'Y_train': target_train,\n",
        "    'X_test': n_grams[1]['test'],\n",
        "    'Y_test': target_validation, \n",
        "    'config_name': '2-gram',\n",
        "    'kernel_name': 'Histogram Intersection',\n",
        "    'C': 4\n",
        "},{\n",
        "    'kernel_function': histogram_kernel, \n",
        "    'X_train': n_grams[2]['train'],\n",
        "    'Y_train': target_train,\n",
        "    'X_test': n_grams[2]['test'],\n",
        "    'Y_test': target_validation, \n",
        "    'config_name': '3-gram',\n",
        "    'kernel_name': 'Histogram Intersection',\n",
        "    'C': 4\n",
        "}]"
      ],
      "execution_count": null,
      "outputs": []
    },
    {
      "cell_type": "code",
      "metadata": {
        "id": "xJsoAATvKTbU",
        "colab": {
          "base_uri": "https://localhost:8080/",
          "height": 221
        },
        "outputId": "bc33a5fe-6a8b-4a3a-a3ca-aa7928115b63"
      },
      "source": [
        "[evaluate_svm(**config) for config in configs_histogram]"
      ],
      "execution_count": null,
      "outputs": [
        {
          "output_type": "execute_result",
          "data": {
            "text/plain": [
              "[{'C': 1,\n",
              "  'accuracy': 0.777056277056277,\n",
              "  'config': '1-gram',\n",
              "  'kernel': 'Histogram Intersection'},\n",
              " {'C': 4,\n",
              "  'accuracy': 0.8935064935064935,\n",
              "  'config': '2-gram',\n",
              "  'kernel': 'Histogram Intersection'},\n",
              " {'C': 4,\n",
              "  'accuracy': 0.9151515151515152,\n",
              "  'config': '3-gram',\n",
              "  'kernel': 'Histogram Intersection'}]"
            ]
          },
          "metadata": {
            "tags": []
          },
          "execution_count": 49
        }
      ]
    },
    {
      "cell_type": "markdown",
      "metadata": {
        "id": "detUXE0UON3y"
      },
      "source": [
        "### χ2"
      ]
    },
    {
      "cell_type": "code",
      "metadata": {
        "id": "rL85YKVLOWsp"
      },
      "source": [
        "configs_chi = [{\n",
        "    'kernel_function': chi2_kernel, \n",
        "    'X_train': n_grams[0]['train'].todense(),\n",
        "    'Y_train': target_train,\n",
        "    'X_test': n_grams[0]['test'].todense(),\n",
        "    'Y_test': target_validation, \n",
        "    'config_name': '1-gram',\n",
        "    'kernel_name': 'χ2',\n",
        "    'C': 0.5\n",
        "},{\n",
        "    'kernel_function': chi2_kernel, \n",
        "    'X_train': n_grams[1]['train'].todense(),\n",
        "    'Y_train': target_train,\n",
        "    'X_test': n_grams[1]['test'].todense(),\n",
        "    'Y_test': target_validation, \n",
        "    'config_name': '2-gram',\n",
        "    'kernel_name': 'χ2',\n",
        "    'C': 2\n",
        "},{\n",
        "    'kernel_function': chi2_kernel, \n",
        "    'X_train': n_grams[2]['train'].todense(),\n",
        "    'Y_train': target_train,\n",
        "    'X_test': n_grams[2]['test'].todense(),\n",
        "    'Y_test': target_validation, \n",
        "    'config_name': '3-gram',\n",
        "    'kernel_name': 'χ2',\n",
        "    'C': 2\n",
        "}]"
      ],
      "execution_count": null,
      "outputs": []
    },
    {
      "cell_type": "code",
      "metadata": {
        "id": "sfH-2R2iOpNu",
        "colab": {
          "base_uri": "https://localhost:8080/",
          "height": 119
        },
        "outputId": "a60eda63-2a2c-4c49-f226-893b87a6442a"
      },
      "source": [
        "[evaluate_svm(**config) for config in configs_chi]"
      ],
      "execution_count": null,
      "outputs": [
        {
          "output_type": "execute_result",
          "data": {
            "text/plain": [
              "[{'C': 0.5,\n",
              "  'accuracy': 0.7831168831168831,\n",
              "  'config': '1-gram',\n",
              "  'kernel': 'χ2'},\n",
              " {'C': 2, 'accuracy': 0.7311688311688311, 'config': '2-gram', 'kernel': 'χ2'},\n",
              " {'C': 2, 'accuracy': 0.61991341991342, 'config': '3-gram', 'kernel': 'χ2'}]"
            ]
          },
          "metadata": {
            "tags": []
          },
          "execution_count": 51
        }
      ]
    },
    {
      "cell_type": "markdown",
      "metadata": {
        "id": "iTRtV-keQnq6"
      },
      "source": [
        "### SSK"
      ]
    },
    {
      "cell_type": "markdown",
      "metadata": {
        "id": "DW7govYOhsRp"
      },
      "source": [
        "Map data_validation to feature space"
      ]
    },
    {
      "cell_type": "code",
      "metadata": {
        "id": "3-1pE__VfoPr"
      },
      "source": [
        "X_SSK_025 = custom_ssk_025(data_validation, data_train)\n",
        "X_SSK_05 = custom_ssk_05(data_validation, data_train)\n",
        "X_SSK_075 = custom_ssk_075(data_validation, data_train)\n",
        "X_SSK_1 = custom_ssk_1(data_validation, data_train)"
      ],
      "execution_count": null,
      "outputs": []
    },
    {
      "cell_type": "code",
      "metadata": {
        "id": "NdYjfKs-Qrgu"
      },
      "source": [
        "configs_ssk = [{\n",
        "    'kernel_function': 'precomputed', \n",
        "    'X_train': K4_n[0],\n",
        "    'Y_train': target_train,\n",
        "    'X_test': X_SSK_025,\n",
        "    'Y_test': target_validation, \n",
        "    'config_name': 'lambda = 0.25',\n",
        "    'kernel_name': 'SSK',\n",
        "    'C': 128\n",
        "},{\n",
        "    'kernel_function': 'precomputed', \n",
        "    'X_train': K4_n[1],\n",
        "    'Y_train': target_train,\n",
        "    'X_test': X_SSK_05,\n",
        "    'Y_test': target_validation, \n",
        "    'config_name': 'lambda = 0.5',\n",
        "    'kernel_name': 'SSK',\n",
        "    'C': 32\n",
        "},{\n",
        "    'kernel_function': 'precomputed', \n",
        "    'X_train': K4_n[2],\n",
        "    'Y_train': target_train,\n",
        "    'X_test': X_SSK_075,\n",
        "    'Y_test': target_validation, \n",
        "    'config_name': 'lambda = 0.75',\n",
        "    'kernel_name': 'SSK',\n",
        "    'C': 8\n",
        "},{\n",
        "    'kernel_function': 'precomputed', \n",
        "    'X_train': K4_n[3],\n",
        "    'Y_train': target_train,\n",
        "    'X_test': X_SSK_1,\n",
        "    'Y_test': target_validation, \n",
        "    'config_name': 'lambda = 1',\n",
        "    'kernel_name': 'SSK',\n",
        "    'C': 4\n",
        "}]"
      ],
      "execution_count": null,
      "outputs": []
    },
    {
      "cell_type": "code",
      "metadata": {
        "id": "avpSR5VWhI3J",
        "colab": {
          "base_uri": "https://localhost:8080/",
          "height": 289
        },
        "outputId": "0fb66ac7-8b73-4646-abc3-e51b07e4d1cb"
      },
      "source": [
        "[evaluate_svm(**config) for config in configs_ssk]"
      ],
      "execution_count": null,
      "outputs": [
        {
          "output_type": "execute_result",
          "data": {
            "text/plain": [
              "[{'C': 128,\n",
              "  'accuracy': 0.9108225108225109,\n",
              "  'config': 'lambda = 0.25',\n",
              "  'kernel': 'SSK'},\n",
              " {'C': 32,\n",
              "  'accuracy': 0.9047619047619048,\n",
              "  'config': 'lambda = 0.5',\n",
              "  'kernel': 'SSK'},\n",
              " {'C': 8,\n",
              "  'accuracy': 0.8818181818181818,\n",
              "  'config': 'lambda = 0.75',\n",
              "  'kernel': 'SSK'},\n",
              " {'C': 4,\n",
              "  'accuracy': 0.8575757575757575,\n",
              "  'config': 'lambda = 1',\n",
              "  'kernel': 'SSK'}]"
            ]
          },
          "metadata": {
            "tags": []
          },
          "execution_count": 54
        }
      ]
    },
    {
      "cell_type": "markdown",
      "metadata": {
        "id": "ZT5EpSp3iDG8"
      },
      "source": [
        "### Results\n",
        "\n",
        "|**Kernel**   |Configuration|Regularization Parameter|Accuracy|\n",
        "|---|:-:|:-:|:-:|\n",
        "|Histogram Cosine|  1-gram |  8 |77.23%|\n",
        "|Histogram Cosine|  2-gram |  32 |90.86%|\n",
        "|Histogram Cosine|  3-gram |  4 |92.47%|\n",
        "|Histogram Intersection|  1-gram |  1 |77.70%|\n",
        "|Histogram Intersection|  2-gram |  4 |89.35%|\n",
        "|Histogram Intersection|  3-gram |  4 |91.51%|\n",
        "|χ2|  1-gram |  0.5 |78.31%|\n",
        "|χ2|  2-gram |  2 |73.11%|\n",
        "|χ2|  3-gram |  2 |61.99%|\n",
        "|SSK|  $\\lambda = 0.25$  |  128 |91.08%|\n",
        "|SSK|  $\\lambda = 0.50$  |  32 |90.48%|\n",
        "|SSK|  $\\lambda = 0.75$  |  8 |88.18%|\n",
        "|SSK|  $\\lambda = 1.00$  |  4 |85.76%|"
      ]
    },
    {
      "cell_type": "markdown",
      "metadata": {
        "id": "6DBsMQF0kiz_"
      },
      "source": [
        "### Some Errors"
      ]
    },
    {
      "cell_type": "code",
      "metadata": {
        "id": "SXiqt9lPlJKA"
      },
      "source": [
        "_clf = svm.SVC(kernel=cosine_similarity, C=4)\n",
        "_clf.fit(n_grams[2]['train'], target_train)\n",
        "predicted = _clf.predict(n_grams[2]['test'])"
      ],
      "execution_count": null,
      "outputs": []
    },
    {
      "cell_type": "code",
      "metadata": {
        "id": "ZszOIK68ltuq"
      },
      "source": [
        "mistakes_spanish = []\n",
        "mistakes_english = []\n",
        "for idx, val in enumerate(target_validation):\n",
        "  if(val != predicted[idx]):\n",
        "    if val == 1:\n",
        "      mistakes_english.append(idx)\n",
        "    else:\n",
        "      mistakes_spanish.append(idx)"
      ],
      "execution_count": null,
      "outputs": []
    },
    {
      "cell_type": "markdown",
      "metadata": {
        "id": "1HmSv2Y4hGkJ"
      },
      "source": [
        "Examples of mistakes on English"
      ]
    },
    {
      "cell_type": "code",
      "metadata": {
        "id": "jlK07AsFmJ2d",
        "colab": {
          "base_uri": "https://localhost:8080/",
          "height": 221
        },
        "outputId": "8774c818-936a-4571-b9b6-c496d4bb8a0b"
      },
      "source": [
        "data_validation.iloc[mistakes_english]"
      ],
      "execution_count": null,
      "outputs": [
        {
          "output_type": "execute_result",
          "data": {
            "text/plain": [
              "3256        tomb\n",
              "3007     visitor\n",
              "2153    decision\n",
              "3366       today\n",
              "2117       ascii\n",
              "          ...   \n",
              "2706       altar\n",
              "2303       ideal\n",
              "1684      custom\n",
              "2470     francis\n",
              "3279        data\n",
              "Name: Word, Length: 95, dtype: object"
            ]
          },
          "metadata": {
            "tags": []
          },
          "execution_count": 57
        }
      ]
    },
    {
      "cell_type": "markdown",
      "metadata": {
        "id": "CxLZhIDkhJqs"
      },
      "source": [
        "Examples of mistakes on Spanish"
      ]
    },
    {
      "cell_type": "code",
      "metadata": {
        "id": "-cjZRwxdoJI6",
        "colab": {
          "base_uri": "https://localhost:8080/",
          "height": 221
        },
        "outputId": "b22537e7-798e-4774-f688-d9ad0a06a48b"
      },
      "source": [
        "data_validation.iloc[mistakes_spanish]"
      ],
      "execution_count": null,
      "outputs": [
        {
          "output_type": "execute_result",
          "data": {
            "text/plain": [
              "6406      merece\n",
              "5103       david\n",
              "5291       posee\n",
              "4303       jorge\n",
              "4938     londres\n",
              "          ...   \n",
              "3852      imagen\n",
              "5665     deficit\n",
              "5090    internet\n",
              "4160        psoe\n",
              "6916      buscan\n",
              "Name: Word, Length: 79, dtype: object"
            ]
          },
          "metadata": {
            "tags": []
          },
          "execution_count": 58
        }
      ]
    },
    {
      "cell_type": "markdown",
      "metadata": {
        "id": "nwMqmLm4o70E"
      },
      "source": [
        "### Discuss"
      ]
    },
    {
      "cell_type": "markdown",
      "metadata": {
        "id": "h2h-8C49ohBw"
      },
      "source": [
        "Mistakes\n",
        "* One mistake that is clear is the word 'decision', this word is both in english and spanish. \n",
        "* A posible explanation for these mistakes are that the representation of these words in feature space are very similar on both languages which generates a classification mistake\n",
        "* These similarities in the representation on feature space can be related to the grammatical proximity between the two languages, for example the word problem and problema have a very small difference on feature space.\n",
        "* These similarities are presented both on feature space of the n-grams or substrings."
      ]
    },
    {
      "cell_type": "markdown",
      "metadata": {
        "id": "Y4wnSW-DhvVo"
      },
      "source": [
        "In general according with the found results we can conclude that the order of a kernel based on accuracy score on validation set are:\n",
        "\n",
        "1. Histogram Cosine\n",
        "2. Histogram Intersection\n",
        "3. SSK\n",
        "4. χ2\n",
        "\n",
        "Except chi square, the other kernels reach accuracies above 90% with some settings."
      ]
    },
    {
      "cell_type": "markdown",
      "metadata": {
        "id": "Au1HBsGs4u5T"
      },
      "source": [
        "## Problem 2(a)\n",
        "\n",
        "**SVM interpretability**\n",
        "\n",
        "Use the same dataset from question 1 and calculate a bag of n-grams representation.\n",
        "\n"
      ]
    },
    {
      "cell_type": "markdown",
      "metadata": {
        "id": "QzjOK7QR50eU"
      },
      "source": [
        "We consider (1-3)-grams to create the vectorizer because this representantion gave the best model for the histogram representation."
      ]
    },
    {
      "cell_type": "code",
      "metadata": {
        "id": "1w5u13Cd50ee",
        "colab": {
          "base_uri": "https://localhost:8080/",
          "height": 34
        },
        "outputId": "5a6c353e-1103-422e-d9ae-b2b05a4dcaa8"
      },
      "source": [
        "# Apply vectorizer function with diferent ngrams\n",
        "ngram_min = 1\n",
        "ngram_max = 3\n",
        "vectorizer = CountVectorizer(ngram_range = (ngram_min, ngram_max), analyzer = 'char')\n",
        "\n",
        "# Vectorice the data\n",
        "X1_train = vectorizer.fit_transform(data_train)\n",
        "X1_test = vectorizer.transform(data_validation)\n",
        "\n",
        "X1_train.shape, X1_test.shape"
      ],
      "execution_count": null,
      "outputs": [
        {
          "output_type": "execute_result",
          "data": {
            "text/plain": [
              "((4690, 3082), (2310, 3082))"
            ]
          },
          "metadata": {
            "tags": []
          },
          "execution_count": 59
        }
      ]
    },
    {
      "cell_type": "markdown",
      "metadata": {
        "id": "IsWuYQj4RBP0"
      },
      "source": [
        "## Problem 2(b)\n",
        "\n",
        "Train a SVM using the histogram intersection kernel on this dataset."
      ]
    },
    {
      "cell_type": "code",
      "metadata": {
        "id": "tWrRyRY-7n1a"
      },
      "source": [
        "# Apply Histogram Kernel Function\n",
        "def histogram_kernel(X_p, X_p2):\n",
        "  N1 = X_p/np.sum(X_p, axis=1).reshape(-1, 1)\n",
        "  N2 = X_p2/np.sum(X_p2, axis=1).reshape(-1, 1)\n",
        "  K2_a = np.zeros((N1.shape[0], N2.shape[0]))\n",
        "  for d in range(N1.shape[1]):\n",
        "    column_1 = N1[:, d].reshape(-1, 1)\n",
        "    column_2 = N2[:, d].reshape(-1, 1)\n",
        "    K2_a += np.minimum(column_1, column_2.T)   \n",
        "  return K2_a "
      ],
      "execution_count": null,
      "outputs": []
    },
    {
      "cell_type": "code",
      "metadata": {
        "id": "tYd0J9Rr8D7v",
        "colab": {
          "base_uri": "https://localhost:8080/",
          "height": 68
        },
        "outputId": "907dc21e-bf1d-4bfa-f9b9-36c77a4225a6"
      },
      "source": [
        "histogram_kernel(np.array([[0.2, 0.3],[0.1, 0.4],[0.3,0.2]]), np.array([[0.2, 0.3],[0.1, 0.4]]))"
      ],
      "execution_count": null,
      "outputs": [
        {
          "output_type": "execute_result",
          "data": {
            "text/plain": [
              "array([[1. , 0.8],\n",
              "       [0.8, 1. ],\n",
              "       [0.8, 0.6]])"
            ]
          },
          "metadata": {
            "tags": []
          },
          "execution_count": 61
        }
      ]
    },
    {
      "cell_type": "code",
      "metadata": {
        "id": "6x9j2lFN833O",
        "colab": {
          "base_uri": "https://localhost:8080/",
          "height": 102
        },
        "outputId": "e98f9a02-d172-4409-dc98-c924feb25414"
      },
      "source": [
        "clf = svm.SVC(C=4.0, kernel=histogram_kernel)\n",
        "clf.fit(X1_train, target_train)"
      ],
      "execution_count": null,
      "outputs": [
        {
          "output_type": "execute_result",
          "data": {
            "text/plain": [
              "SVC(C=4.0, break_ties=False, cache_size=200, class_weight=None, coef0=0.0,\n",
              "    decision_function_shape='ovr', degree=3, gamma='scale',\n",
              "    kernel=<function histogram_kernel at 0x7f4319105d90>, max_iter=-1,\n",
              "    probability=False, random_state=None, shrinking=True, tol=0.001,\n",
              "    verbose=False)"
            ]
          },
          "metadata": {
            "tags": []
          },
          "execution_count": 62
        }
      ]
    },
    {
      "cell_type": "code",
      "metadata": {
        "id": "tsVOudvU833e"
      },
      "source": [
        "pred = clf.predict(X1_test)"
      ],
      "execution_count": null,
      "outputs": []
    },
    {
      "cell_type": "code",
      "metadata": {
        "id": "-NrIbvyr833n",
        "colab": {
          "base_uri": "https://localhost:8080/",
          "height": 34
        },
        "outputId": "364ef2df-9d81-4de1-a4ef-d72b6f507efe"
      },
      "source": [
        "nt = len(target_validation)\n",
        "errors = np.sum(pred != target_validation)\n",
        "accuracy = 1-(errors/nt)\n",
        "accuracy"
      ],
      "execution_count": null,
      "outputs": [
        {
          "output_type": "execute_result",
          "data": {
            "text/plain": [
              "0.9151515151515152"
            ]
          },
          "metadata": {
            "tags": []
          },
          "execution_count": 64
        }
      ]
    },
    {
      "cell_type": "code",
      "metadata": {
        "id": "7yCFw8mB_JrS"
      },
      "source": [
        "pred2 = clf.predict(X1_train)"
      ],
      "execution_count": null,
      "outputs": []
    },
    {
      "cell_type": "code",
      "metadata": {
        "id": "p1K-831y_Jrj",
        "colab": {
          "base_uri": "https://localhost:8080/",
          "height": 34
        },
        "outputId": "3b328055-6325-4905-c155-4a4db9c0a226"
      },
      "source": [
        "nt = len(target_train)\n",
        "errors = np.sum(pred2 != target_train)\n",
        "accuracy = 1-(errors/nt)\n",
        "accuracy"
      ],
      "execution_count": null,
      "outputs": [
        {
          "output_type": "execute_result",
          "data": {
            "text/plain": [
              "0.9733475479744137"
            ]
          },
          "metadata": {
            "tags": []
          },
          "execution_count": 66
        }
      ]
    },
    {
      "cell_type": "markdown",
      "metadata": {
        "id": "TSFntjlM95Yg"
      },
      "source": [
        "### Discuss\n",
        "\n",
        "The best model from point 1 for the histogram Kernel has $C=4.0$ and (1-3)gram representation.\n",
        "\n",
        "Which has $97.33\\%$  accuracy on (train, validation) data , and $91.51\\%$ accuracy on test data.\n",
        "\n"
      ]
    },
    {
      "cell_type": "markdown",
      "metadata": {
        "id": "Qwe1aru1iIhT"
      },
      "source": [
        "## Problem 2(c) \n",
        "\n",
        "Identify the support vectors found by the SVM training algorithm. Show the samples\n",
        "corresponding to the support vectors with the maximum absolute value of the $\\alpha_i$ coefficients, for both positive and negative values. Do they make sense? Analyze and\n",
        "discuss."
      ]
    },
    {
      "cell_type": "markdown",
      "metadata": {
        "id": "S2ZRBy7PCbCW"
      },
      "source": [
        "First we compute the support vectors, and show some examples, in total we have 1701 support vectors"
      ]
    },
    {
      "cell_type": "code",
      "metadata": {
        "id": "FCHE_uFDhuyu",
        "colab": {
          "base_uri": "https://localhost:8080/",
          "height": 221
        },
        "outputId": "9d0d6458-a62b-4cae-e364-fa9f9993587e"
      },
      "source": [
        "indices = clf.support_\n",
        "data_train.iloc[indices]"
      ],
      "execution_count": null,
      "outputs": [
        {
          "output_type": "execute_result",
          "data": {
            "text/plain": [
              "3739       hemos\n",
              "6090      medias\n",
              "5663    probable\n",
              "6642     conocen\n",
              "5833     fortuna\n",
              "          ...   \n",
              "2747      verses\n",
              "1184        gray\n",
              "1685       apart\n",
              "3444       canoe\n",
              "3092     charges\n",
              "Name: Word, Length: 1701, dtype: object"
            ]
          },
          "metadata": {
            "tags": []
          },
          "execution_count": 67
        }
      ]
    },
    {
      "cell_type": "markdown",
      "metadata": {
        "id": "MPA2UlqWCooP"
      },
      "source": [
        "Now we compute the support vectors whose alphas in the dual representation are maximal which happen to be that they are equal to 4, given that $C=4.0$. In total we have 603 with highest alphas. Some of them correpond to the negative class so the dual coefficientes are - 4 and the positive class the dual coefficients are +4"
      ]
    },
    {
      "cell_type": "code",
      "metadata": {
        "id": "7jo4cVAHk3xo",
        "colab": {
          "base_uri": "https://localhost:8080/",
          "height": 85
        },
        "outputId": "776075c5-a0ad-4a09-c7a7-25184cfd3f9b"
      },
      "source": [
        "coeffs = clf.dual_coef_\n",
        "print(coeffs)\n",
        "print(max(coeffs[0]))\n",
        "abs_max_coeffs = np.where(abs(coeffs[0]) == 4)\n",
        "print(len(abs_max_coeffs[0]))"
      ],
      "execution_count": null,
      "outputs": [
        {
          "output_type": "stream",
          "text": [
            "[[-2.28309503 -0.38582916 -4.         ...  4.          4.\n",
            "   1.08808667]]\n",
            "4.0\n",
            "603\n"
          ],
          "name": "stdout"
        }
      ]
    },
    {
      "cell_type": "code",
      "metadata": {
        "id": "gTqCspkh2SqM",
        "colab": {
          "base_uri": "https://localhost:8080/",
          "height": 714
        },
        "outputId": "1e60f587-327e-42cf-a573-5723f738d293"
      },
      "source": [
        "data_train.iloc[indices[abs_max_coeffs[0]]].iloc[:40]"
      ],
      "execution_count": null,
      "outputs": [
        {
          "output_type": "execute_result",
          "data": {
            "text/plain": [
              "5663      probable\n",
              "5833       fortuna\n",
              "5303       deporte\n",
              "3758        quiere\n",
              "6716       balance\n",
              "3505         entre\n",
              "4436         lunes\n",
              "4387        ocurre\n",
              "6715        taller\n",
              "3641        parece\n",
              "4714       hacerse\n",
              "6967      extremos\n",
              "4274          area\n",
              "6615         senti\n",
              "4556    superficie\n",
              "5646    conclusion\n",
              "3682        traves\n",
              "4271         dicen\n",
              "4677       version\n",
              "3857      personal\n",
              "6815        robert\n",
              "5239        jardin\n",
              "4299      material\n",
              "5900       lideres\n",
              "5166       musical\n",
              "3978          cine\n",
              "3538          tres\n",
              "4570        fiesta\n",
              "4340        buscar\n",
              "6657     comprende\n",
              "5432        sintio\n",
              "6662     solicitud\n",
              "5456          john\n",
              "5410        tengan\n",
              "6067       ponerse\n",
              "3904      caracter\n",
              "5657     extension\n",
              "5121        noches\n",
              "3931       popular\n",
              "6358        templo\n",
              "Name: Word, dtype: object"
            ]
          },
          "metadata": {
            "tags": []
          },
          "execution_count": 71
        }
      ]
    },
    {
      "cell_type": "markdown",
      "metadata": {
        "id": "vE8s2OALDbDG"
      },
      "source": [
        "We print some examples of support vectors whose alphas are either -4, or +4"
      ]
    },
    {
      "cell_type": "markdown",
      "metadata": {
        "id": "zyEfRSS7nhol"
      },
      "source": [
        "### Positive Support vectors"
      ]
    },
    {
      "cell_type": "markdown",
      "metadata": {
        "id": "VJzBQI-9Eu9f"
      },
      "source": [
        "Now we compute the support vectors whose alphas in the dual representation are maximal which means that they are +4, given that $C=4.0$. In total we have 305 maximal positive support vectors."
      ]
    },
    {
      "cell_type": "code",
      "metadata": {
        "id": "YjHTaw-jEu9x",
        "colab": {
          "base_uri": "https://localhost:8080/",
          "height": 85
        },
        "outputId": "c6347c78-ca2c-40b4-88d1-948993da9cea"
      },
      "source": [
        "coeffs = clf.dual_coef_\n",
        "print(coeffs)\n",
        "print(max(coeffs[0]))\n",
        "max_coeffs = np.where(coeffs[0] == max(coeffs[0]))\n",
        "print(len(max_coeffs[0]))"
      ],
      "execution_count": null,
      "outputs": [
        {
          "output_type": "stream",
          "text": [
            "[[-2.28309503 -0.38582916 -4.         ...  4.          4.\n",
            "   1.08808667]]\n",
            "4.0\n",
            "305\n"
          ],
          "name": "stdout"
        }
      ]
    },
    {
      "cell_type": "markdown",
      "metadata": {
        "id": "waf9cg-TEu-f"
      },
      "source": [
        "We print some examples of maximal positive support vectors, they are whose alphas are +4 and class +1."
      ]
    },
    {
      "cell_type": "code",
      "metadata": {
        "id": "MjY_r9bT3zUP",
        "colab": {
          "base_uri": "https://localhost:8080/",
          "height": 714
        },
        "outputId": "6a831e91-3e48-4f2e-d08c-b23e1625120c"
      },
      "source": [
        "data_train.iloc[indices[max_coeffs[0]]].iloc[:40]"
      ],
      "execution_count": null,
      "outputs": [
        {
          "output_type": "execute_result",
          "data": {
            "text/plain": [
              "2103           china\n",
              "837             plan\n",
              "1230       principle\n",
              "1780          actual\n",
              "803           ladies\n",
              "3341          mirror\n",
              "1288    intellectual\n",
              "718           garden\n",
              "2364       abandoned\n",
              "670            value\n",
              "2641           elder\n",
              "3107       criticism\n",
              "2513         intense\n",
              "1200          divine\n",
              "566           please\n",
              "2099         reduced\n",
              "745          america\n",
              "741         religion\n",
              "1911           bosom\n",
              "2366          eleven\n",
              "1361         arrival\n",
              "945         opposite\n",
              "1503         control\n",
              "2687         liberal\n",
              "1189          virtue\n",
              "175            until\n",
              "300             care\n",
              "2642          signal\n",
              "744         personal\n",
              "1157           claim\n",
              "1962          estate\n",
              "3475       desirable\n",
              "517       particular\n",
              "759           indian\n",
              "3458            area\n",
              "2970        positive\n",
              "3349           cares\n",
              "3487         pacific\n",
              "389            miles\n",
              "1923        articles\n",
              "Name: Word, dtype: object"
            ]
          },
          "metadata": {
            "tags": []
          },
          "execution_count": 73
        }
      ]
    },
    {
      "cell_type": "markdown",
      "metadata": {
        "id": "JPfuIRkfGUGa"
      },
      "source": [
        "### Negative Support vectors"
      ]
    },
    {
      "cell_type": "markdown",
      "metadata": {
        "id": "46RS4JUkGUGt"
      },
      "source": [
        "Now we compute the support vectors whose alphas in the dual representation are maximal they happen to be +4 but are from the negative class -1, hence the coefficients in the dual representation are -4, given that $C=4.0$. In total we have 298 maximal negative support vectors."
      ]
    },
    {
      "cell_type": "code",
      "metadata": {
        "id": "Y4NUzwTCGUGx",
        "colab": {
          "base_uri": "https://localhost:8080/",
          "height": 85
        },
        "outputId": "7a8c7155-fd20-4707-dec9-2038df5ea33b"
      },
      "source": [
        "coeffs = clf.dual_coef_\n",
        "print(coeffs)\n",
        "print(min(coeffs[0]))\n",
        "min_coeffs = np.where(coeffs[0] == min(coeffs[0]))\n",
        "print(len(min_coeffs[0]))"
      ],
      "execution_count": null,
      "outputs": [
        {
          "output_type": "stream",
          "text": [
            "[[-2.28309503 -0.38582916 -4.         ...  4.          4.\n",
            "   1.08808667]]\n",
            "-4.0\n",
            "298\n"
          ],
          "name": "stdout"
        }
      ]
    },
    {
      "cell_type": "markdown",
      "metadata": {
        "id": "WpIoGYHwGUHM"
      },
      "source": [
        "We print some examples of maximal negative support vectors, they happen to be those whose alphas are 4 and dual coeffs are -4."
      ]
    },
    {
      "cell_type": "code",
      "metadata": {
        "id": "KEbm6_IC4Dz3",
        "colab": {
          "base_uri": "https://localhost:8080/",
          "height": 714
        },
        "outputId": "be9faea3-b565-4565-9e0d-21943a81d5c4"
      },
      "source": [
        "data_train.iloc[indices[min_coeffs[0]]].iloc[0:40]"
      ],
      "execution_count": null,
      "outputs": [
        {
          "output_type": "execute_result",
          "data": {
            "text/plain": [
              "5663      probable\n",
              "5833       fortuna\n",
              "5303       deporte\n",
              "3758        quiere\n",
              "6716       balance\n",
              "3505         entre\n",
              "4436         lunes\n",
              "4387        ocurre\n",
              "6715        taller\n",
              "3641        parece\n",
              "4714       hacerse\n",
              "6967      extremos\n",
              "4274          area\n",
              "6615         senti\n",
              "4556    superficie\n",
              "5646    conclusion\n",
              "3682        traves\n",
              "4271         dicen\n",
              "4677       version\n",
              "3857      personal\n",
              "6815        robert\n",
              "5239        jardin\n",
              "4299      material\n",
              "5900       lideres\n",
              "5166       musical\n",
              "3978          cine\n",
              "3538          tres\n",
              "4570        fiesta\n",
              "4340        buscar\n",
              "6657     comprende\n",
              "5432        sintio\n",
              "6662     solicitud\n",
              "5456          john\n",
              "5410        tengan\n",
              "6067       ponerse\n",
              "3904      caracter\n",
              "5657     extension\n",
              "5121        noches\n",
              "3931       popular\n",
              "6358        templo\n",
              "Name: Word, dtype: object"
            ]
          },
          "metadata": {
            "tags": []
          },
          "execution_count": 75
        }
      ]
    },
    {
      "cell_type": "markdown",
      "metadata": {
        "id": "VI7Nm2vsIzts"
      },
      "source": [
        "### Discuss\n",
        "\n",
        "Given that the support vectors are vectors that lie in the boundary between English and Spanish, we excepted these vectors to be words that are similar in both english and spanish. \n",
        "We found that some of them are very similar in both languages, indeed some are cognates words like (probable, religion, conduct, conclusion) \n",
        "\n",
        "The positive support vectors with highest alpha are words in english that sound spanish, like cognates and words with definite spanish-type-syllabic-structure  like (virtue, intense, particular).\n",
        "\n",
        "The negative support vectors with highest alphas are words in spanish that are similar with english words like cognates such as (ocurre, lideres, personal, version). \n",
        "\n",
        "Some letters do not appear in the words examples like (w) because it is almost exclusive of english. "
      ]
    },
    {
      "cell_type": "markdown",
      "metadata": {
        "id": "L0r6NDv_KwLh"
      },
      "source": [
        "## Problem 2(d)\n",
        "\n",
        "For different test samples, calculate the classification manually, i.e. compute the kernel between the sample and the support vectors and check how the contribute, positively or negatively, to the final classification. Show those vectors that have the highest value of the kernel. Analyze and discuss"
      ]
    },
    {
      "cell_type": "markdown",
      "metadata": {
        "id": "N5Uy637_cas4"
      },
      "source": [
        "Print part of the validation data set to select some test sample from English"
      ]
    },
    {
      "cell_type": "code",
      "metadata": {
        "id": "znw53YuYLCIv",
        "colab": {
          "base_uri": "https://localhost:8080/",
          "height": 714
        },
        "outputId": "f530aa79-3409-4307-eb25-1ecb52ded729"
      },
      "source": [
        "data_validation[180:220]"
      ],
      "execution_count": null,
      "outputs": [
        {
          "output_type": "execute_result",
          "data": {
            "text/plain": [
              "3615             cual\n",
              "6156            vital\n",
              "473            church\n",
              "6083            reloj\n",
              "2886    determination\n",
              "1554           unable\n",
              "4127       finalmente\n",
              "1940         doctrine\n",
              "6186            pilar\n",
              "5947        encargado\n",
              "5459      agricultura\n",
              "6681           terror\n",
              "6497       tendencias\n",
              "6150     conservacion\n",
              "2900           theyre\n",
              "1201         material\n",
              "5714    mantenimiento\n",
              "6269         revision\n",
              "535             heavy\n",
              "5689        consiguio\n",
              "3733           llegar\n",
              "5799       consciente\n",
              "2874            grasp\n",
              "5178    concentracion\n",
              "3142             adam\n",
              "3113     restrictions\n",
              "3806         comision\n",
              "5038      extranjeros\n",
              "4053           amigos\n",
              "3043           enable\n",
              "1335             rode\n",
              "6244        bienestar\n",
              "2764       previously\n",
              "5561          interno\n",
              "1964            reign\n",
              "1559       constantly\n",
              "185             white\n",
              "5531           minuto\n",
              "5071         producir\n",
              "6713         montanas\n",
              "Name: Word, dtype: object"
            ]
          },
          "metadata": {
            "tags": []
          },
          "execution_count": 76
        }
      ]
    },
    {
      "cell_type": "markdown",
      "metadata": {
        "id": "ODwStk6Mls_H"
      },
      "source": [
        "### Sample 1: ['white']"
      ]
    },
    {
      "cell_type": "markdown",
      "metadata": {
        "id": "e15c3hrxdCtm"
      },
      "source": [
        "Compute the Kernel between the support vectors and the word"
      ]
    },
    {
      "cell_type": "code",
      "metadata": {
        "id": "R9eYvlc2c_lh",
        "colab": {
          "base_uri": "https://localhost:8080/",
          "height": 34
        },
        "outputId": "96e96d3f-9fe2-4429-bbc2-69c10738adff"
      },
      "source": [
        "# Select the support vectors and the sample vector\n",
        "indices = clf.support_\n",
        "X_supvecs = X1_train[indices]\n",
        "X_sample = vectorizer.transform(['white'])\n",
        "\n",
        "# Compute the Kernel\n",
        "K_1 = histogram_kernel(X_supvecs,X_sample).T\n",
        "\n",
        "# Select the coefficients in the dual representation and the intercept\n",
        "coeffs = clf.dual_coef_\n",
        "b_coeff = clf.intercept_[0]\n",
        "\n",
        "# Print the resulting shapes\n",
        "X_supvecs.shape, K_1.shape, coeffs.shape"
      ],
      "execution_count": null,
      "outputs": [
        {
          "output_type": "execute_result",
          "data": {
            "text/plain": [
              "((1701, 3082), (1, 1701), (1, 1701))"
            ]
          },
          "metadata": {
            "tags": []
          },
          "execution_count": 77
        }
      ]
    },
    {
      "cell_type": "markdown",
      "metadata": {
        "id": "HRxZox-Jfw4E"
      },
      "source": [
        "Compute the element wise product of the Kernel between the support vectors and the test sample, and the total discrimination function. "
      ]
    },
    {
      "cell_type": "code",
      "metadata": {
        "id": "hETErIJHePsY",
        "colab": {
          "base_uri": "https://localhost:8080/",
          "height": 34
        },
        "outputId": "17e9dfbb-3e02-4d46-827d-515b81a5a8c5"
      },
      "source": [
        "disc_function = K_1*coeffs\n",
        "disc_value = disc_function.sum() + b_coeff\n",
        "\n",
        "disc_value, disc_function.shape"
      ],
      "execution_count": null,
      "outputs": [
        {
          "output_type": "execute_result",
          "data": {
            "text/plain": [
              "(1.975561266801022, (1, 1701))"
            ]
          },
          "metadata": {
            "tags": []
          },
          "execution_count": 78
        }
      ]
    },
    {
      "cell_type": "markdown",
      "metadata": {
        "id": "g79WI05LiGlE"
      },
      "source": [
        "Compute the support vectors which have higher positive effect in the classification (english words)"
      ]
    },
    {
      "cell_type": "code",
      "metadata": {
        "id": "zF2mtRgPg5nf",
        "colab": {
          "base_uri": "https://localhost:8080/",
          "height": 34
        },
        "outputId": "cb3bed9c-3fcf-4970-c39b-31297bc2276e"
      },
      "source": [
        "min_disc_function = disc_function[0]\n",
        "maxvecs = (-min_disc_function).argsort()[:8]\n",
        "maxvecs.shape"
      ],
      "execution_count": null,
      "outputs": [
        {
          "output_type": "execute_result",
          "data": {
            "text/plain": [
              "(8,)"
            ]
          },
          "metadata": {
            "tags": []
          },
          "execution_count": 89
        }
      ]
    },
    {
      "cell_type": "code",
      "metadata": {
        "id": "uOfX-nvqpBtD",
        "colab": {
          "base_uri": "https://localhost:8080/",
          "height": 170
        },
        "outputId": "dbd42f78-48b4-4e60-dd69-f01f4e4def9e"
      },
      "source": [
        "data_train.iloc[indices[maxvecs]]"
      ],
      "execution_count": null,
      "outputs": [
        {
          "output_type": "execute_result",
          "data": {
            "text/plain": [
              "2750    definite\n",
              "2139       haste\n",
              "945     opposite\n",
              "3106    favorite\n",
              "1584      cities\n",
              "1308      listen\n",
              "3370      intend\n",
              "3474      editor\n",
              "Name: Word, dtype: object"
            ]
          },
          "metadata": {
            "tags": []
          },
          "execution_count": 90
        }
      ]
    },
    {
      "cell_type": "markdown",
      "metadata": {
        "id": "7ROP1Zqto3kV"
      },
      "source": [
        "Compute the support vectors which have higher negative effect in the classification (spanish words)"
      ]
    },
    {
      "cell_type": "code",
      "metadata": {
        "id": "0HqPxkjzq6e8",
        "colab": {
          "base_uri": "https://localhost:8080/",
          "height": 34
        },
        "outputId": "2605bac4-44e8-422d-fd51-b0c7026fa31b"
      },
      "source": [
        "max_disc_function = disc_function[0]\n",
        "minvecs = (max_disc_function).argsort()[:8]\n",
        "minvecs.shape"
      ],
      "execution_count": null,
      "outputs": [
        {
          "output_type": "execute_result",
          "data": {
            "text/plain": [
              "(8,)"
            ]
          },
          "metadata": {
            "tags": []
          },
          "execution_count": 91
        }
      ]
    },
    {
      "cell_type": "code",
      "metadata": {
        "id": "EpnBB6oBq6fR",
        "colab": {
          "base_uri": "https://localhost:8080/",
          "height": 170
        },
        "outputId": "914113aa-27be-461e-d00d-e0d8dfe2cecb"
      },
      "source": [
        "data_train.iloc[indices[minvecs]]"
      ],
      "execution_count": null,
      "outputs": [
        {
          "output_type": "execute_result",
          "data": {
            "text/plain": [
              "4573      aceite\n",
              "5659      limite\n",
              "4476       hotel\n",
              "5750        hice\n",
              "4190       chile\n",
              "4469      comite\n",
              "5283    criterio\n",
              "5506    permiten\n",
              "Name: Word, dtype: object"
            ]
          },
          "metadata": {
            "tags": []
          },
          "execution_count": 92
        }
      ]
    },
    {
      "cell_type": "markdown",
      "metadata": {
        "id": "T-qsDF4RmUMS"
      },
      "source": [
        "### Sample 2: ['extranjeros']"
      ]
    },
    {
      "cell_type": "markdown",
      "metadata": {
        "id": "x5elpRBbmUMZ"
      },
      "source": [
        "Compute the Kernel between the support vectors and the word"
      ]
    },
    {
      "cell_type": "code",
      "metadata": {
        "id": "9gh_ndSbmUMc",
        "colab": {
          "base_uri": "https://localhost:8080/",
          "height": 34
        },
        "outputId": "d07482fc-73cf-422c-9a02-66f0afacdcac"
      },
      "source": [
        "# Select the support vectors and the sample vector\n",
        "indices = clf.support_\n",
        "X_supvecs = X1_train[indices]\n",
        "X_sample = vectorizer.transform(['extranjeros'])\n",
        "\n",
        "# Compute the Kernel\n",
        "K_1 = histogram_kernel(X_supvecs,X_sample).T\n",
        "\n",
        "# Select the coefficients in the dual representation and the intercept\n",
        "coeffs = clf.dual_coef_\n",
        "b_coeff = clf.intercept_[0]\n",
        "\n",
        "# Print the resulting shapes\n",
        "X_supvecs.shape, K_1.shape, coeffs.shape"
      ],
      "execution_count": null,
      "outputs": [
        {
          "output_type": "execute_result",
          "data": {
            "text/plain": [
              "((1701, 3082), (1, 1701), (1, 1701))"
            ]
          },
          "metadata": {
            "tags": []
          },
          "execution_count": 93
        }
      ]
    },
    {
      "cell_type": "markdown",
      "metadata": {
        "id": "kMlTs-AemUMu"
      },
      "source": [
        "Compute the element wise product of the Kernel between the support vectors and the test sample, and the total discrimination function. "
      ]
    },
    {
      "cell_type": "code",
      "metadata": {
        "id": "Ex749NPkmUMw",
        "colab": {
          "base_uri": "https://localhost:8080/",
          "height": 34
        },
        "outputId": "7ecd8a72-111a-49dd-a2bc-4e5f67084429"
      },
      "source": [
        "disc_function = K_1*coeffs\n",
        "disc_value = disc_function.sum() + b_coeff\n",
        "\n",
        "disc_value, disc_function.shape"
      ],
      "execution_count": null,
      "outputs": [
        {
          "output_type": "execute_result",
          "data": {
            "text/plain": [
              "(-1.6683974990418031, (1, 1701))"
            ]
          },
          "metadata": {
            "tags": []
          },
          "execution_count": 94
        }
      ]
    },
    {
      "cell_type": "markdown",
      "metadata": {
        "id": "9HTxxiJAmUM3"
      },
      "source": [
        "Compute the support vectors which have higher positive effect in the classification (english words)"
      ]
    },
    {
      "cell_type": "code",
      "metadata": {
        "id": "aC18PpgEmUM4",
        "colab": {
          "base_uri": "https://localhost:8080/",
          "height": 34
        },
        "outputId": "ce7dfc05-3e25-4e12-e6ef-2cc44963f6ed"
      },
      "source": [
        "min_disc_function = disc_function[0]\n",
        "maxvecs = (-min_disc_function).argsort()[:8]\n",
        "maxvecs.shape"
      ],
      "execution_count": null,
      "outputs": [
        {
          "output_type": "execute_result",
          "data": {
            "text/plain": [
              "(8,)"
            ]
          },
          "metadata": {
            "tags": []
          },
          "execution_count": 95
        }
      ]
    },
    {
      "cell_type": "code",
      "metadata": {
        "id": "7P9RsL3PmUM-",
        "colab": {
          "base_uri": "https://localhost:8080/",
          "height": 170
        },
        "outputId": "40d5675d-b81e-4f89-ee40-5a5b3ba18b17"
      },
      "source": [
        "data_train.iloc[indices[maxvecs]]"
      ],
      "execution_count": null,
      "outputs": [
        {
          "output_type": "execute_result",
          "data": {
            "text/plain": [
              "3026     external\n",
              "1642      extreme\n",
              "1602        arose\n",
              "3304       orange\n",
              "2777     contrast\n",
              "1714      granted\n",
              "2776      central\n",
              "2563    jerusalem\n",
              "Name: Word, dtype: object"
            ]
          },
          "metadata": {
            "tags": []
          },
          "execution_count": 96
        }
      ]
    },
    {
      "cell_type": "markdown",
      "metadata": {
        "id": "aDDP8PfSpZBu"
      },
      "source": [
        "Compute the support vectors which have higher negative effect in the classification (spanish words)"
      ]
    },
    {
      "cell_type": "code",
      "metadata": {
        "id": "T77861p_mUNI",
        "colab": {
          "base_uri": "https://localhost:8080/",
          "height": 34
        },
        "outputId": "f09d3012-2b3e-4506-d4a5-503f5eb16c3e"
      },
      "source": [
        "max_disc_function = disc_function[0]\n",
        "minvecs = (max_disc_function).argsort()[:8]\n",
        "minvecs.shape"
      ],
      "execution_count": null,
      "outputs": [
        {
          "output_type": "execute_result",
          "data": {
            "text/plain": [
              "(8,)"
            ]
          },
          "metadata": {
            "tags": []
          },
          "execution_count": 97
        }
      ]
    },
    {
      "cell_type": "code",
      "metadata": {
        "id": "wlb2ai7BmUNP",
        "colab": {
          "base_uri": "https://localhost:8080/",
          "height": 170
        },
        "outputId": "be2c57b2-5b07-41bd-d03e-3b8914678b00"
      },
      "source": [
        "data_train.iloc[indices[minvecs]]"
      ],
      "execution_count": null,
      "outputs": [
        {
          "output_type": "execute_result",
          "data": {
            "text/plain": [
              "6967       extremos\n",
              "5657      extension\n",
              "3682         traves\n",
              "5525         negros\n",
              "4399        frances\n",
              "3669           eran\n",
              "6196    representan\n",
              "4063         grande\n",
              "Name: Word, dtype: object"
            ]
          },
          "metadata": {
            "tags": []
          },
          "execution_count": 98
        }
      ]
    },
    {
      "cell_type": "markdown",
      "metadata": {
        "id": "iE4KHynioLLI"
      },
      "source": [
        "### Sample 3: ['constantly']"
      ]
    },
    {
      "cell_type": "markdown",
      "metadata": {
        "id": "YwKo2swyoLLP"
      },
      "source": [
        "Compute the Kernel between the support vectors and the word"
      ]
    },
    {
      "cell_type": "code",
      "metadata": {
        "id": "4YHsH_BroLLS",
        "colab": {
          "base_uri": "https://localhost:8080/",
          "height": 34
        },
        "outputId": "3194832c-e5b6-4080-8d8d-d24ecce5d1be"
      },
      "source": [
        "# Select the support vectors and the sample vector\n",
        "indices = clf.support_\n",
        "X_supvecs = X1_train[indices]\n",
        "X_sample = vectorizer.transform(['constantly'])\n",
        "\n",
        "# Compute the Kernel\n",
        "K_1 = histogram_kernel(X_supvecs,X_sample).T\n",
        "\n",
        "# Select the coefficients in the dual representation and the intercept\n",
        "coeffs = clf.dual_coef_\n",
        "b_coeff = clf.intercept_[0]\n",
        "\n",
        "# Print the resulting shapes\n",
        "X_supvecs.shape, K_1.shape, coeffs.shape"
      ],
      "execution_count": null,
      "outputs": [
        {
          "output_type": "execute_result",
          "data": {
            "text/plain": [
              "((1701, 3082), (1, 1701), (1, 1701))"
            ]
          },
          "metadata": {
            "tags": []
          },
          "execution_count": 99
        }
      ]
    },
    {
      "cell_type": "markdown",
      "metadata": {
        "id": "BXlzxUQJoLLo"
      },
      "source": [
        "Compute the element wise product of the Kernel between the support vectors and the test sample, and the total discrimination function. "
      ]
    },
    {
      "cell_type": "code",
      "metadata": {
        "id": "-QcuryrvoLLr",
        "colab": {
          "base_uri": "https://localhost:8080/",
          "height": 34
        },
        "outputId": "c3a670e4-cf75-463a-91e8-3c8f61fd6f79"
      },
      "source": [
        "disc_function = K_1*coeffs\n",
        "disc_value = disc_function.sum() + b_coeff\n",
        "\n",
        "disc_value, disc_function.shape, b_coeff"
      ],
      "execution_count": null,
      "outputs": [
        {
          "output_type": "execute_result",
          "data": {
            "text/plain": [
              "(1.4525755139378722, (1, 1701), 1.1983134581739838)"
            ]
          },
          "metadata": {
            "tags": []
          },
          "execution_count": 100
        }
      ]
    },
    {
      "cell_type": "markdown",
      "metadata": {
        "id": "WqWLdDCwoLL1"
      },
      "source": [
        "Compute the support vectors which have higher positive effect in the classification (english words)"
      ]
    },
    {
      "cell_type": "code",
      "metadata": {
        "id": "4TpgNebQoLL4",
        "colab": {
          "base_uri": "https://localhost:8080/",
          "height": 34
        },
        "outputId": "4e97766b-304a-416c-926f-f6798fb6e50d"
      },
      "source": [
        "min_disc_function = disc_function[0]\n",
        "maxvecs = (-min_disc_function).argsort()[:8]\n",
        "maxvecs.shape"
      ],
      "execution_count": null,
      "outputs": [
        {
          "output_type": "execute_result",
          "data": {
            "text/plain": [
              "(8,)"
            ]
          },
          "metadata": {
            "tags": []
          },
          "execution_count": 101
        }
      ]
    },
    {
      "cell_type": "code",
      "metadata": {
        "id": "rZfIvzZpoLMA",
        "colab": {
          "base_uri": "https://localhost:8080/",
          "height": 170
        },
        "outputId": "cc2baac5-68a0-4a32-8d0c-d97e21d8fa47"
      },
      "source": [
        "data_train.iloc[indices[maxvecs]]"
      ],
      "execution_count": null,
      "outputs": [
        {
          "output_type": "execute_result",
          "data": {
            "text/plain": [
              "1453     constant\n",
              "2777     contrast\n",
              "1303      contact\n",
              "482     important\n",
              "1503      control\n",
              "1394      content\n",
              "3174    consisted\n",
              "1546     continue\n",
              "Name: Word, dtype: object"
            ]
          },
          "metadata": {
            "tags": []
          },
          "execution_count": 102
        }
      ]
    },
    {
      "cell_type": "markdown",
      "metadata": {
        "id": "79xz4QWbp2LP"
      },
      "source": [
        "Compute the support vectors which have higher negative effect in the classification (spanish words)"
      ]
    },
    {
      "cell_type": "code",
      "metadata": {
        "id": "SQ1clmtZoLMH",
        "colab": {
          "base_uri": "https://localhost:8080/",
          "height": 34
        },
        "outputId": "4669417b-6223-439e-b2a6-b152ff856ec1"
      },
      "source": [
        "max_disc_function = disc_function[0]\n",
        "minvecs = (max_disc_function).argsort()[:8]\n",
        "minvecs.shape"
      ],
      "execution_count": null,
      "outputs": [
        {
          "output_type": "execute_result",
          "data": {
            "text/plain": [
              "(8,)"
            ]
          },
          "metadata": {
            "tags": []
          },
          "execution_count": 103
        }
      ]
    },
    {
      "cell_type": "code",
      "metadata": {
        "id": "3095SAK4oLMQ",
        "colab": {
          "base_uri": "https://localhost:8080/",
          "height": 170
        },
        "outputId": "15f0c8a7-7d7d-4301-e129-dda98a5a8f6f"
      },
      "source": [
        "data_train.iloc[indices[minvecs]]"
      ],
      "execution_count": null,
      "outputs": [
        {
          "output_type": "execute_result",
          "data": {
            "text/plain": [
              "4787      instante\n",
              "5297     construir\n",
              "4775      consiste\n",
              "5373     continuar\n",
              "6462      consenso\n",
              "6394      consigue\n",
              "5646    conclusion\n",
              "6322     considero\n",
              "Name: Word, dtype: object"
            ]
          },
          "metadata": {
            "tags": []
          },
          "execution_count": 104
        }
      ]
    },
    {
      "cell_type": "markdown",
      "metadata": {
        "id": "WAzZmstCsptZ"
      },
      "source": [
        "### Discuss\n",
        "\n",
        "We computed the Kernel and the discrimination manually of the three samples taken from the validation data set, the values of the discrimination are, \n",
        "\n",
        "|**Word** | **f(x)** | \n",
        "|---|:-:|\n",
        "|'white'|  1.97 |\n",
        "|'extranjeros'|  -1.67 |\n",
        "|'constantly'|  1.45 |\n",
        "\n",
        "We can say then, that in some way, 'white' is a more english word than 'constantly', which makes sense because constantly is a cognate. \n",
        "\n",
        "We also computed the support vectors with highest positive and negative effect in the discrimination function, we found that the positive are words in english which share a lot of ngrams with the word to be classified, and the negative are the spanish words that share a lot ngrams with the word. For example for 'white' the most similar word in english is 'definite', and in spanish 'aceite'. "
      ]
    },
    {
      "cell_type": "markdown",
      "metadata": {
        "id": "swI801iIq_Zd"
      },
      "source": [
        "## Problem 2(e)\n",
        "\n",
        "Propose a method that for a given word to be classified, highlight in one color (e.g. blue)\n",
        "those n-grams that suggest the word is from English and in another color (e.g. red) those\n",
        "n-grams that suggest the word is from Spanish."
      ]
    },
    {
      "cell_type": "markdown",
      "metadata": {
        "id": "uKYow9FKGTu7"
      },
      "source": [
        "**Solution:**\n",
        "\n",
        "Let $\\mathbf{p}$ be the word vector to be classified defined by the elements $p_j$, and let $\\mathbf{x_i}$ be one support vector, defined by the elements $x_{ij}$, where j runs over the n-grams. All vectors are normalized. Then the discrimination function for $\\mathbf{p}$ is defined by,\n",
        "$$  f(\\mathbf{p}) = \\sum_ia_iy_ik(\\mathbf{x_i},\\mathbf{p}) + b $$\n",
        "Now the Histogram Kernel function between the points is defined by, \n",
        "$$ k(\\mathbf{x_i},\\mathbf{p}) = \\sum_j\\text{min}(x_{ij},p_j) $$\n",
        "Then, \n",
        "$$  f(\\mathbf{p}) = \\sum_ia_iy_i(\\sum_j\\text{min}(x_{ij},p_j)) + b $$\n",
        "$$  f(\\mathbf{p}) = \\sum_j (\\sum_ia_iy_i\\text{min}(x_{ij},p_j)) + b $$\n",
        "\n",
        "For a given word most of those j values are 0, hence to find the effect of each n-gram in the total classification we take the bias b, and divide it equally for each non zero value of the sum j. \n",
        "\n",
        "Hence, we can a define a vector $\\mathbf{F}$ where each element apply to each n-gram whose jth entry is, \n",
        "$$  F_j  =  \\sum_ia_iy_i(\\text{min}(x_{ij},p_j)) $$\n",
        "\n",
        "And a vector $\\mathbf{B}$ whose jth entry is defined by, \n",
        "\n",
        "$$ B_j = \\begin{cases} \\frac{b}{n} \\quad \\text{if $F_j$ is non zero} \\\\ 0  \\quad \\text{elif $F_j$ is zero} \\end{cases} $$\n",
        "\n",
        "And n, is the number of non-zero values of $\\mathbf{F}$ \n",
        " \n",
        "The positive elements of the vector $ \\mathbf{F}+ \\mathbf{B}$ would be ngrams which suggest the word is from english, the negative elements would be n-grams which suggest is from spanish.\n",
        "\n"
      ]
    },
    {
      "cell_type": "markdown",
      "metadata": {
        "id": "aG07n8_XLQra"
      },
      "source": [
        "**Note:** We choosed $ \\mathbf{B} $ due to the following, \n",
        "If we have a linear classification, $\\vec{w}\\cdot\\vec{x}+b>0$, we can write such classification as, \n",
        "\n",
        "$$ \\vec{w}\\cdot\\big( \\vec{x}+\\frac{b\\vec{w}}{\\vec{w}\\cdot\\vec{w}} \\big)>0 $$\n",
        "\n",
        "Then the weight of the jth entry in the total classification would be \n",
        "\n",
        "$$ w_j(x_j+ \\frac{bw_j}{\\vec{w}\\cdot\\vec{w}}) $$\n",
        "\n",
        "Then in our case the $x_j$ value is $F_j$ and $w_j$ is a 1 for non zero values of $\\mathbf{F}$ and 0 elsewhere, which would lead to, \n",
        "$$ \\frac{bw_j}{\\vec{w}\\cdot\\vec{w}} = \\frac{b}{n}$$\n",
        "\n",
        "With $n$ the number of non zero values of $\\mathbf{F}$"
      ]
    },
    {
      "cell_type": "code",
      "metadata": {
        "id": "WHIW201zf-de"
      },
      "source": [
        "# n_grams_weights returns the F and B vectors defined previously\n",
        "\n",
        "def ngrams_weights(word_p, model_p = clf, vect_p = vectorizer):\n",
        "  # Select the support vectors and the sample vector\n",
        "  indices = model_p.support_\n",
        "  X_supvecs = X1_train[indices]\n",
        "  X_sample = vect_p.transform(word_p)\n",
        "\n",
        "  # Normalize the support vectors and the sample vector\n",
        "  X_supvecs = X_supvecs/X_supvecs.sum(axis=1)\n",
        "  X_sample = (X_sample/X_sample.sum()).todense()\n",
        "\n",
        "  # Select the dual coefficients of the support vectors\n",
        "  coeffs = model_p.dual_coef_.T\n",
        "  bias = model_p.intercept_[0]\n",
        "\n",
        "  # Compute the F function with the weights for each n-gram\n",
        "  M = np.minimum(X_supvecs,X_sample) \n",
        "  F = np.multiply(coeffs, M).sum(axis = 0)\n",
        "\n",
        "  # The vector of bias \n",
        "  B = np.zeros(X_sample.shape[1]).reshape(1,-1) \n",
        "  weights_idx = F.nonzero()[1]\n",
        "  B[0, weights_idx] = bias/np.count_nonzero(F)\n",
        "\n",
        "  return F, B"
      ],
      "execution_count": null,
      "outputs": []
    },
    {
      "cell_type": "markdown",
      "metadata": {
        "id": "DXEdGcBFRuFX"
      },
      "source": [
        "Computing the discrimination function based on the last method, returns the same value of the discrimination (1.97 english) based on support vectors for the word ['white']."
      ]
    },
    {
      "cell_type": "code",
      "metadata": {
        "id": "fYtMi-pPhXlw",
        "colab": {
          "base_uri": "https://localhost:8080/",
          "height": 34
        },
        "outputId": "a0772909-dce0-49b3-d426-da79e912e71a"
      },
      "source": [
        "F, B = ngrams_weights(['white'])\n",
        "F.shape, np.count_nonzero(F), B.shape, np.count_nonzero(B), (F + B).sum()"
      ],
      "execution_count": null,
      "outputs": [
        {
          "output_type": "execute_result",
          "data": {
            "text/plain": [
              "((1, 3082), 10, (1, 3082), 10, 1.9755612668012899)"
            ]
          },
          "metadata": {
            "tags": []
          },
          "execution_count": 106
        }
      ]
    },
    {
      "cell_type": "markdown",
      "metadata": {
        "id": "m56p-3n_i8D9"
      },
      "source": [
        "### Examples\n",
        "\n",
        "We use the same examples as point 2(d) those are ['white'], ['extranjeros'], ['constantly']"
      ]
    },
    {
      "cell_type": "code",
      "metadata": {
        "id": "v5ezF8oPg8MM"
      },
      "source": [
        "def color_ngrams(word_p, model_p = clf, vect_p = vectorizer):\n",
        "  \n",
        "  # compute the weights of the n-grams\n",
        "  F, B = ngrams_weights(word_p, model_p, vect_p)\n",
        "  W = F + B\n",
        "  # select non-zero weights\n",
        "  weights_idx = W.nonzero()[1]\n",
        "  weights = W[0, weights_idx]\n",
        "\n",
        "  # retrieve the space of n-grams for the word\n",
        "  inverse = vect_p.inverse_transform(F)[0]\n",
        "\n",
        "  # color the n-grams\n",
        "  print(word_p[0])\n",
        "  for i in range(len(inverse)):\n",
        "    if weights[0, i] > 0:\n",
        "      print(Fore.BLUE + inverse[i])\n",
        "    else:\n",
        "      print(Fore.RED + inverse[i])\n",
        "  "
      ],
      "execution_count": null,
      "outputs": []
    },
    {
      "cell_type": "code",
      "metadata": {
        "id": "3hCFWAQ8ibtw",
        "colab": {
          "base_uri": "https://localhost:8080/",
          "height": 204
        },
        "outputId": "2d8bb837-4999-48f2-adfc-d6fcb7e3b10a"
      },
      "source": [
        "color_ngrams(['white'])"
      ],
      "execution_count": null,
      "outputs": [
        {
          "output_type": "stream",
          "text": [
            "white\n",
            "\u001b[34me\n",
            "\u001b[34mh\n",
            "\u001b[31mhi\n",
            "\u001b[34mhit\n",
            "\u001b[31mi\n",
            "\u001b[34mit\n",
            "\u001b[34mite\n",
            "\u001b[34mt\n",
            "\u001b[31mte\n",
            "\u001b[34mw\n"
          ],
          "name": "stdout"
        }
      ]
    },
    {
      "cell_type": "code",
      "metadata": {
        "id": "1jHPAW3XjVLi",
        "colab": {
          "base_uri": "https://localhost:8080/",
          "height": 476
        },
        "outputId": "ee18a560-12c0-41d5-8611-420800f4647f"
      },
      "source": [
        "color_ngrams(['extranjeros'])"
      ],
      "execution_count": null,
      "outputs": [
        {
          "output_type": "stream",
          "text": [
            "extranjeros\n",
            "\u001b[31ma\n",
            "\u001b[34man\n",
            "\u001b[34me\n",
            "\u001b[31mer\n",
            "\u001b[31mero\n",
            "\u001b[31mex\n",
            "\u001b[34mext\n",
            "\u001b[31mj\n",
            "\u001b[31mje\n",
            "\u001b[34mjer\n",
            "\u001b[34mn\n",
            "\u001b[34mnj\n",
            "\u001b[31mo\n",
            "\u001b[31mos\n",
            "\u001b[31mr\n",
            "\u001b[31mra\n",
            "\u001b[34mran\n",
            "\u001b[31mro\n",
            "\u001b[34mros\n",
            "\u001b[34ms\n",
            "\u001b[34mt\n",
            "\u001b[31mtr\n",
            "\u001b[31mtra\n",
            "\u001b[34mx\n",
            "\u001b[34mxt\n",
            "\u001b[34mxtr\n"
          ],
          "name": "stdout"
        }
      ]
    },
    {
      "cell_type": "code",
      "metadata": {
        "id": "krv6HwO9jhjK",
        "colab": {
          "base_uri": "https://localhost:8080/",
          "height": 425
        },
        "outputId": "c534c4b3-9894-4c79-c23e-26768c586597"
      },
      "source": [
        "color_ngrams(['constantly'])"
      ],
      "execution_count": null,
      "outputs": [
        {
          "output_type": "stream",
          "text": [
            "constantly\n",
            "\u001b[31ma\n",
            "\u001b[34man\n",
            "\u001b[34mant\n",
            "\u001b[31mc\n",
            "\u001b[31mco\n",
            "\u001b[31mcon\n",
            "\u001b[31ml\n",
            "\u001b[34mly\n",
            "\u001b[34mn\n",
            "\u001b[34mns\n",
            "\u001b[31mnst\n",
            "\u001b[34mnt\n",
            "\u001b[31mo\n",
            "\u001b[34mon\n",
            "\u001b[34mons\n",
            "\u001b[34ms\n",
            "\u001b[34mst\n",
            "\u001b[31msta\n",
            "\u001b[34mt\n",
            "\u001b[31mta\n",
            "\u001b[34mtan\n",
            "\u001b[31mtl\n",
            "\u001b[34my\n"
          ],
          "name": "stdout"
        }
      ]
    },
    {
      "cell_type": "markdown",
      "metadata": {
        "id": "oNVhGHFKhhK3"
      },
      "source": [
        "### Discuss\n",
        "\n",
        "we posed the discrimination function in terms of the n grams for the histogram intersection kernel, and then found how each n-gram affect positively or negatively the discriminant function.\n",
        "\n",
        "We can observe that 1 grams like w and y are more inclined towards english, we also note that 2 grams (consonant-vowel) like 'ro' 'te' are more inclined towards spanish, and bigrams and 3-grams of all consonants are more inclined towards english like 'xtr'.\n"
      ]
    },
    {
      "cell_type": "markdown",
      "metadata": {
        "id": "3TJZmtAquvUY"
      },
      "source": [
        "## Problem 3(a)\n",
        "\n",
        "**Kernel logistic regression** \n",
        "\n",
        "We will implement a kernel version of logistic regression. The goal is to train a logistic\n",
        "regression model on a feature space F. Specifically, the discriminant function of the model is\n",
        "given by:\n",
        "\n",
        "$$f(x) = P(C = 1|x) = \\sigma(w\\Phi(x))$$\n",
        "\n",
        "\n",
        "where $\\Phi : X \\rightarrow F$ is a mapping function associated with a kernel function $k : X \\times X \\rightarrow R$\n",
        "and $\\sigma$ is the logistic function.\n",
        "\n",
        "Assume that the weight vector w is expressed as a linear combination of the training samples:\n",
        "\n",
        "$$w = \\sum_{i=1}^l\\alpha_i\\Phi(x_i)$$\n",
        "\n",
        "(a) Write a expression of the discriminant function expressed in terms of the kernel and the\n",
        "coeficients $\\alpha_i$."
      ]
    },
    {
      "cell_type": "markdown",
      "metadata": {
        "id": "MNmcAD4UzPHp"
      },
      "source": [
        "**Solution:**\n",
        "\n",
        "The discriminant function can be written as, \n",
        "$$f(x) = \\sigma(w\\Phi(x))=\\sigma\\big(\\big[\\sum_{i=1}^l\\alpha_i\\Phi(x_i)\\big]\\cdot\\Phi(x)\\big)$$\n",
        "$$f(x) = \\sigma\\big(\\sum_{i=1}^l\\alpha_i[\\Phi(x_i)\\cdot\\Phi(x)]\\big)$$\n",
        "Hence, \n",
        "$$ f(x) = \\sigma\\big(\\sum_{i=1}^l\\alpha_i k(x_i,x)\\big)$$\n"
      ]
    },
    {
      "cell_type": "markdown",
      "metadata": {
        "id": "mQj030_Z0ND_"
      },
      "source": [
        "## Problem 3(b)\n",
        "\n",
        "Formulate the problem of learning the parameters of the model as an optimization problem that looks for the parameters $\\alpha_i$ that minimize a cross entropy loss function."
      ]
    },
    {
      "cell_type": "markdown",
      "metadata": {
        "id": "abQKATrr6P7H"
      },
      "source": [
        "**Solution:**\n",
        "\n",
        "Consider the training points as ${x_i,y_i}$ where the $y_i={0,1}$ are the labels, \n",
        "The sample likelihood would be given by Bernoulli, \n",
        "\n",
        "$$\\prod_i(f(x_i)^{y_i})(1-f(x_i))^{1-y_i}$$\n",
        "\n",
        "The cross entropy would be the log given by, \n",
        "\n",
        "$$L = - \\sum_iy_i\\log f(x_i)+(1-y_i)\\log(1-f(x_i))$$\n",
        "\n",
        "$$L = - \\sum_iy_i\\log\\Big[\\sigma\\big(\\sum_{j}\\alpha_j k(x_j,x_i)\\big)\\Big]+(1-y_i)\\log\\Big[1-\\sigma\\big(\\sum_{j}\\alpha_j k(x_j,x_i)\\big)\\Big]$$\n",
        "\n",
        "Now, let’s write $f(a)=\\frac{1}{1-e^{-a}}$, then $f’(a)=f(a)(1-f(a))$\n",
        "\n",
        "The update by gradient descent would take the form, \n",
        "\n",
        "$$\\Delta \\alpha_j = -\\eta \\frac{\\partial L}{\\partial \\alpha_i}= \\eta\\sum_i\\Big[\\frac{y_i}{f(x_i)}-\\frac{1-y_i}{1-f(x_i)}\\Big]f(x_i)(1-f(x_i))k(x_j,x_i) $$\n",
        "\n",
        "Finally in short form, \n",
        "\n",
        "$$\\Delta \\alpha_j = \\eta \\sum_i(y_i-f(x_i))k(x_j,x_i)$$\n",
        "\n",
        "That would be the training of the alphas"
      ]
    },
    {
      "cell_type": "markdown",
      "metadata": {
        "id": "u0Fsp7bDLgZr"
      },
      "source": [
        "## Problem 3(c)\n",
        "\n",
        "Write a function that receives a training data set and a kernel function and finds a vector that minimizes the loss function using gradient descent."
      ]
    },
    {
      "cell_type": "code",
      "metadata": {
        "id": "JwaNN3PeLgZ5"
      },
      "source": [
        "def test_model(X_p, alpha_p, kernel_p, y):\n",
        "  K = kernel_p(X_p, X_p)\n",
        "  pred_score = sigmoid(alpha_p, K)\n",
        "  pred = (pred_score > 0.5).astype(int)\n",
        "  accuracy = 1 - np.sum(pred != y)/len(y)\n",
        "  return accuracy"
      ],
      "execution_count": null,
      "outputs": []
    },
    {
      "cell_type": "code",
      "metadata": {
        "id": "02w7E97nLgab"
      },
      "source": [
        "def evaluate_classifier(a,x,pt,kernel_type):\n",
        "    n,d = x.shape\n",
        "    sum = 0\n",
        "    K = kernel_type(x,pt.reshape(1, 2))\n",
        "    for i in range(n):\n",
        "      sum += a[i]*K[i]\n",
        "    if sum > 0:\n",
        "      return 1\n",
        "    if sum <= 0:\n",
        "      return 0\n",
        "\n",
        "    return -1"
      ],
      "execution_count": null,
      "outputs": []
    },
    {
      "cell_type": "code",
      "metadata": {
        "id": "XOcTaNqKLgar"
      },
      "source": [
        "def sigmoid(alpha_p, kmatrix_p):\n",
        "  #return 1/(1+np.exp(-((np.dot(kmatrix_p, alpha_p))+bias_p)))\n",
        "  return 1/(1+np.exp(-(np.dot(kmatrix_p, alpha_p))))"
      ],
      "execution_count": null,
      "outputs": []
    },
    {
      "cell_type": "code",
      "metadata": {
        "id": "fU3QJ2NQLga8"
      },
      "source": [
        "def train_kernel(x,y,eta,n_iters=100,kernel_type=polynomial_kernel):\n",
        "  n,d = x.shape\n",
        "  a = (np.random.rand(n) * 0.02) - 0.01  # (l, )\n",
        "  K = kernel_type(x, x)\n",
        "  done = False\n",
        "  iters = 0\n",
        "  np.random.seed(None)\n",
        "  while not(done):\n",
        "    done = True\n",
        "    a_temp = a\n",
        "    for j in range(n):\n",
        "      a[j] = a[j] + eta * np.dot((y - sigmoid(a_temp, K)), K[j] )\n",
        "      done = False\n",
        "    iters = iters + 1\n",
        "    if iters > n_iters:\n",
        "      done = True\n",
        "\n",
        "  return a"
      ],
      "execution_count": null,
      "outputs": []
    },
    {
      "cell_type": "markdown",
      "metadata": {
        "id": "M6xsuSoGP1uB"
      },
      "source": [
        "## Problem 3(d)\n",
        "\n",
        "Test your algorithm using diferent kernels (linear, polynomial, Gaussian, etc.) on synthetic 2D datasets from sklearn (https://scikit-learn.org/stable/auto_examples/classification/plot_classifier_comparison.html). Plot the decision regions and\n",
        "discuss the results:"
      ]
    },
    {
      "cell_type": "code",
      "metadata": {
        "id": "8vv2aUN6XrcF"
      },
      "source": [
        "# Función para visualizar un conjunto de datos en 2D\n",
        "def plot_data(X, y):\n",
        "    y_unique = np.unique(y)\n",
        "    colors = pl.cm.rainbow(np.linspace(0.0, 1.0, y_unique.size))\n",
        "    for this_y, color in zip(y_unique, colors):\n",
        "        this_X = X[y == this_y]\n",
        "        pl.scatter(this_X[:, 0], this_X[:, 1],  c=color,\n",
        "                    alpha=0.5, edgecolor='k',\n",
        "                    label=\"Class %s\" % this_y)\n",
        "    pl.legend(loc=\"best\")\n",
        "    pl.title(\"Data\")\n",
        "    \n",
        "# Función para visualizar de la superficie de decisión de un clasificador\n",
        "def plot_decision_region(alpha_p, X, kernel_p):\n",
        "    min_x = np.min(X[:, 0])\n",
        "    max_x = np.max(X[:, 0])\n",
        "    min_y = np.min(X[:, 1])\n",
        "    max_y = np.max(X[:, 1])\n",
        "    min_x = min_x - (max_x - min_x) * 0.05\n",
        "    max_x = max_x + (max_x - min_x) * 0.05\n",
        "    min_y = min_y - (max_y - min_y) * 0.05\n",
        "    max_y = max_y + (max_y - min_y) * 0.05\n",
        "    x_vals = np.linspace(min_x, max_x, 100)\n",
        "    y_vals = np.linspace(min_y, max_y, 100)\n",
        "    XX, YY = np.meshgrid(x_vals, y_vals)\n",
        "    grid_r, grid_c = XX.shape\n",
        "    ZZ = np.zeros((grid_r, grid_c))\n",
        "    for i in range(grid_r):\n",
        "        for j in range(grid_c):\n",
        "            pt = np.array([XX[i, j] , YY[i, j]])\n",
        "            ZZ[i, j] = evaluate_classifier(alpha_p,X,pt,kernel_p)\n",
        "    pl.contourf(XX, YY, ZZ, 100, cmap = pl.cm.coolwarm, vmin= -1, vmax=2)\n",
        "    pl.colorbar()\n",
        "    pl.xlabel(\"x\")\n",
        "    pl.ylabel(\"y\")"
      ],
      "execution_count": null,
      "outputs": []
    },
    {
      "cell_type": "markdown",
      "metadata": {
        "id": "DXv-PfJMPxG1"
      },
      "source": [
        "### Moons Logistic Linear Kernel"
      ]
    },
    {
      "cell_type": "code",
      "metadata": {
        "id": "6FvW7qdxPxG-",
        "colab": {
          "base_uri": "https://localhost:8080/",
          "height": 35
        },
        "outputId": "1a8b392b-2c81-44c2-a455-25031e447553"
      },
      "source": [
        "X, y = make_moons(n_samples=250, noise=0.15, random_state=0)\n",
        "X.shape, y.shape"
      ],
      "execution_count": null,
      "outputs": [
        {
          "output_type": "execute_result",
          "data": {
            "text/plain": [
              "((250, 2), (250,))"
            ]
          },
          "metadata": {
            "tags": []
          },
          "execution_count": 7
        }
      ]
    },
    {
      "cell_type": "code",
      "metadata": {
        "id": "2ney0-JGPxHZ"
      },
      "source": [
        "alpha = train_kernel(X,y,0.01,300,linear_kernel)"
      ],
      "execution_count": null,
      "outputs": []
    },
    {
      "cell_type": "code",
      "metadata": {
        "id": "RUMmQ_PxOxfc",
        "colab": {
          "base_uri": "https://localhost:8080/",
          "height": 35
        },
        "outputId": "58a5465c-8552-4f82-dac5-3c88f814ef61"
      },
      "source": [
        "alpha.shape"
      ],
      "execution_count": null,
      "outputs": [
        {
          "output_type": "execute_result",
          "data": {
            "text/plain": [
              "(250,)"
            ]
          },
          "metadata": {
            "tags": []
          },
          "execution_count": 9
        }
      ]
    },
    {
      "cell_type": "code",
      "metadata": {
        "id": "8W9ylMOLPxHo",
        "colab": {
          "base_uri": "https://localhost:8080/",
          "height": 54
        },
        "outputId": "6c25afce-9501-4070-9269-a58527521712"
      },
      "source": [
        "accuracy = test_model(X, alpha, linear_kernel, y)\n",
        "accuracy"
      ],
      "execution_count": null,
      "outputs": [
        {
          "output_type": "stream",
          "text": [
            "(250, 250)\n"
          ],
          "name": "stdout"
        },
        {
          "output_type": "execute_result",
          "data": {
            "text/plain": [
              "0.872"
            ]
          },
          "metadata": {
            "tags": []
          },
          "execution_count": 10
        }
      ]
    },
    {
      "cell_type": "code",
      "metadata": {
        "id": "e_xEKRSMPxH0",
        "colab": {
          "base_uri": "https://localhost:8080/",
          "height": 460
        },
        "outputId": "f86d0735-ba75-4629-dd93-c15ea9cb324b"
      },
      "source": [
        "pl.figure(figsize = (9, 6))\n",
        "plot_decision_region(alpha, X, linear_kernel) \n",
        "plot_data(X, y)"
      ],
      "execution_count": null,
      "outputs": [
        {
          "output_type": "stream",
          "text": [
            "*c* argument looks like a single numeric RGB or RGBA sequence, which should be avoided as value-mapping will have precedence in case its length matches with *x* & *y*.  Please use the *color* keyword-argument or provide a 2-D array with a single row if you intend to specify the same RGB or RGBA value for all points.\n",
            "*c* argument looks like a single numeric RGB or RGBA sequence, which should be avoided as value-mapping will have precedence in case its length matches with *x* & *y*.  Please use the *color* keyword-argument or provide a 2-D array with a single row if you intend to specify the same RGB or RGBA value for all points.\n"
          ],
          "name": "stderr"
        },
        {
          "output_type": "display_data",
          "data": {
            "image/png": "[encoded data removed]",
            "text/plain": [
              "<Figure size 648x432 with 2 Axes>"
            ]
          },
          "metadata": {
            "tags": [],
            "needs_background": "light"
          }
        }
      ]
    },
    {
      "cell_type": "markdown",
      "metadata": {
        "id": "Iuek8NXsMs20"
      },
      "source": [
        "### Moons Logistic 3-deg Polinomial Kernel"
      ]
    },
    {
      "cell_type": "code",
      "metadata": {
        "id": "Mc9x1HaLMs3F"
      },
      "source": [
        "alpha = train_kernel(X,y,0.01,300, polynomial_kernel)"
      ],
      "execution_count": null,
      "outputs": []
    },
    {
      "cell_type": "code",
      "metadata": {
        "id": "2Zg7VNQSMs3P",
        "colab": {
          "base_uri": "https://localhost:8080/",
          "height": 34
        },
        "outputId": "e9dfd9c3-9236-41bb-ff20-5b05db0488e3"
      },
      "source": [
        "accuracy = test_model(X, alpha, polynomial_kernel, y)\n",
        "accuracy"
      ],
      "execution_count": null,
      "outputs": [
        {
          "output_type": "execute_result",
          "data": {
            "text/plain": [
              "0.904"
            ]
          },
          "metadata": {
            "tags": []
          },
          "execution_count": 121
        }
      ]
    },
    {
      "cell_type": "code",
      "metadata": {
        "id": "xMaYdc54Ms3Y",
        "colab": {
          "base_uri": "https://localhost:8080/",
          "height": 458
        },
        "outputId": "eeafd1e5-f966-4b6b-85e1-8c575e9a4325"
      },
      "source": [
        "pl.figure(figsize = (9, 6))\n",
        "plot_decision_region(alpha, X, polynomial_kernel) \n",
        "plot_data(X, y)"
      ],
      "execution_count": null,
      "outputs": [
        {
          "output_type": "stream",
          "text": [
            "'c' argument looks like a single numeric RGB or RGBA sequence, which should be avoided as value-mapping will have precedence in case its length matches with 'x' & 'y'.  Please use a 2-D array with a single row if you really want to specify the same RGB or RGBA value for all points.\n",
            "'c' argument looks like a single numeric RGB or RGBA sequence, which should be avoided as value-mapping will have precedence in case its length matches with 'x' & 'y'.  Please use a 2-D array with a single row if you really want to specify the same RGB or RGBA value for all points.\n"
          ],
          "name": "stderr"
        },
        {
          "output_type": "display_data",
          "data": {
            "image/png": "[encoded data removed]",
            "text/plain": [
              "<Figure size 648x432 with 2 Axes>"
            ]
          },
          "metadata": {
            "tags": [],
            "needs_background": "light"
          }
        }
      ]
    },
    {
      "cell_type": "markdown",
      "metadata": {
        "id": "LfaYy8OmOlae"
      },
      "source": [
        "### Moons Logistic Gaussian Kernel"
      ]
    },
    {
      "cell_type": "code",
      "metadata": {
        "id": "fnzcBFYZOla5"
      },
      "source": [
        "alpha = train_kernel(X,y,0.01,300,rbf_kernel)"
      ],
      "execution_count": null,
      "outputs": []
    },
    {
      "cell_type": "code",
      "metadata": {
        "id": "nzgk6ldIOlbD",
        "colab": {
          "base_uri": "https://localhost:8080/",
          "height": 34
        },
        "outputId": "48bd2828-b209-4247-e99b-d4004ca457f5"
      },
      "source": [
        "accuracy = test_model(X, alpha, rbf_kernel, y)\n",
        "accuracy"
      ],
      "execution_count": null,
      "outputs": [
        {
          "output_type": "execute_result",
          "data": {
            "text/plain": [
              "0.968"
            ]
          },
          "metadata": {
            "tags": []
          },
          "execution_count": 124
        }
      ]
    },
    {
      "cell_type": "code",
      "metadata": {
        "id": "2xcKxPkeOlbN",
        "colab": {
          "base_uri": "https://localhost:8080/",
          "height": 458
        },
        "outputId": "cf1887ff-ee59-448f-c6b9-7cbb0222d768"
      },
      "source": [
        "pl.figure(figsize = (9, 6))\n",
        "plot_decision_region(alpha, X, rbf_kernel) \n",
        "plot_data(X, y)"
      ],
      "execution_count": null,
      "outputs": [
        {
          "output_type": "stream",
          "text": [
            "'c' argument looks like a single numeric RGB or RGBA sequence, which should be avoided as value-mapping will have precedence in case its length matches with 'x' & 'y'.  Please use a 2-D array with a single row if you really want to specify the same RGB or RGBA value for all points.\n",
            "'c' argument looks like a single numeric RGB or RGBA sequence, which should be avoided as value-mapping will have precedence in case its length matches with 'x' & 'y'.  Please use a 2-D array with a single row if you really want to specify the same RGB or RGBA value for all points.\n"
          ],
          "name": "stderr"
        },
        {
          "output_type": "display_data",
          "data": {
            "image/png": "[encoded data removed]",
            "text/plain": [
              "<Figure size 648x432 with 2 Axes>"
            ]
          },
          "metadata": {
            "tags": [],
            "needs_background": "light"
          }
        }
      ]
    },
    {
      "cell_type": "markdown",
      "metadata": {
        "id": "kuiMyGxEOlbX"
      },
      "source": [
        "### Circles Logistic Linear Kernel"
      ]
    },
    {
      "cell_type": "code",
      "metadata": {
        "id": "mKZacxRxOlbY",
        "colab": {
          "base_uri": "https://localhost:8080/",
          "height": 34
        },
        "outputId": "e1c93986-7697-4bfd-8abb-8eedb21aeee2"
      },
      "source": [
        "X, y = make_circles(n_samples=250, factor=.3, noise=.35)\n",
        "X.shape, y.shape"
      ],
      "execution_count": null,
      "outputs": [
        {
          "output_type": "execute_result",
          "data": {
            "text/plain": [
              "((250, 2), (250,))"
            ]
          },
          "metadata": {
            "tags": []
          },
          "execution_count": 126
        }
      ]
    },
    {
      "cell_type": "code",
      "metadata": {
        "id": "3xAm1MPvOlbh"
      },
      "source": [
        "alpha = train_kernel(X,y,0.01,300,linear_kernel)"
      ],
      "execution_count": null,
      "outputs": []
    },
    {
      "cell_type": "code",
      "metadata": {
        "id": "JTDxH72AOlbq",
        "colab": {
          "base_uri": "https://localhost:8080/",
          "height": 34
        },
        "outputId": "bea632d4-cdad-4dae-f294-b9384b8ea660"
      },
      "source": [
        "accuracy = test_model(X, alpha, linear_kernel, y)\n",
        "accuracy"
      ],
      "execution_count": null,
      "outputs": [
        {
          "output_type": "execute_result",
          "data": {
            "text/plain": [
              "0.492"
            ]
          },
          "metadata": {
            "tags": []
          },
          "execution_count": 128
        }
      ]
    },
    {
      "cell_type": "code",
      "metadata": {
        "id": "mRA0IvmeOlby",
        "colab": {
          "base_uri": "https://localhost:8080/",
          "height": 458
        },
        "outputId": "4386e8a1-13bd-41df-9ba8-e424e37ba9ab"
      },
      "source": [
        "pl.figure(figsize = (9, 6))\n",
        "plot_decision_region(alpha, X, linear_kernel) \n",
        "plot_data(X, y)"
      ],
      "execution_count": null,
      "outputs": [
        {
          "output_type": "stream",
          "text": [
            "'c' argument looks like a single numeric RGB or RGBA sequence, which should be avoided as value-mapping will have precedence in case its length matches with 'x' & 'y'.  Please use a 2-D array with a single row if you really want to specify the same RGB or RGBA value for all points.\n",
            "'c' argument looks like a single numeric RGB or RGBA sequence, which should be avoided as value-mapping will have precedence in case its length matches with 'x' & 'y'.  Please use a 2-D array with a single row if you really want to specify the same RGB or RGBA value for all points.\n"
          ],
          "name": "stderr"
        },
        {
          "output_type": "display_data",
          "data": {
            "image/png": "[encoded data removed]",
            "text/plain": [
              "<Figure size 648x432 with 2 Axes>"
            ]
          },
          "metadata": {
            "tags": [],
            "needs_background": "light"
          }
        }
      ]
    },
    {
      "cell_type": "markdown",
      "metadata": {
        "id": "oPcQ2PkcOlb7"
      },
      "source": [
        "### Circles Logistic 3-deg Polinomial Kernel"
      ]
    },
    {
      "cell_type": "code",
      "metadata": {
        "id": "ZYKOKWcGOlcI"
      },
      "source": [
        "alpha = train_kernel(X,y,0.01,300, polynomial_kernel)"
      ],
      "execution_count": null,
      "outputs": []
    },
    {
      "cell_type": "code",
      "metadata": {
        "id": "6pFFmLzeOlcW",
        "colab": {
          "base_uri": "https://localhost:8080/",
          "height": 34
        },
        "outputId": "daf27191-a5e0-46dd-9d28-3095d855f5cc"
      },
      "source": [
        "accuracy = test_model(X, alpha, polynomial_kernel, y)\n",
        "accuracy"
      ],
      "execution_count": null,
      "outputs": [
        {
          "output_type": "execute_result",
          "data": {
            "text/plain": [
              "0.832"
            ]
          },
          "metadata": {
            "tags": []
          },
          "execution_count": 131
        }
      ]
    },
    {
      "cell_type": "code",
      "metadata": {
        "id": "6kaKNRNmOlcf",
        "colab": {
          "base_uri": "https://localhost:8080/",
          "height": 458
        },
        "outputId": "38444e77-eb98-49d4-d627-20b6fa1df239"
      },
      "source": [
        "pl.figure(figsize = (9, 6))\n",
        "plot_decision_region(alpha, X, polynomial_kernel) \n",
        "plot_data(X, y)"
      ],
      "execution_count": null,
      "outputs": [
        {
          "output_type": "stream",
          "text": [
            "'c' argument looks like a single numeric RGB or RGBA sequence, which should be avoided as value-mapping will have precedence in case its length matches with 'x' & 'y'.  Please use a 2-D array with a single row if you really want to specify the same RGB or RGBA value for all points.\n",
            "'c' argument looks like a single numeric RGB or RGBA sequence, which should be avoided as value-mapping will have precedence in case its length matches with 'x' & 'y'.  Please use a 2-D array with a single row if you really want to specify the same RGB or RGBA value for all points.\n"
          ],
          "name": "stderr"
        },
        {
          "output_type": "display_data",
          "data": {
            "image/png": "[encoded data removed]",
            "text/plain": [
              "<Figure size 648x432 with 2 Axes>"
            ]
          },
          "metadata": {
            "tags": [],
            "needs_background": "light"
          }
        }
      ]
    },
    {
      "cell_type": "markdown",
      "metadata": {
        "id": "Epld54RDOlcn"
      },
      "source": [
        "### Circles Logistic Gaussian Kernel"
      ]
    },
    {
      "cell_type": "code",
      "metadata": {
        "id": "g6imegYtOlcw"
      },
      "source": [
        "alpha = train_kernel(X,y,0.01,300,rbf_kernel)"
      ],
      "execution_count": null,
      "outputs": []
    },
    {
      "cell_type": "code",
      "metadata": {
        "id": "UCoS-sgFOlc5",
        "colab": {
          "base_uri": "https://localhost:8080/",
          "height": 34
        },
        "outputId": "01e95fd4-ffeb-4255-cf2d-625812fe2725"
      },
      "source": [
        "accuracy = test_model(X, alpha, rbf_kernel, y)\n",
        "accuracy"
      ],
      "execution_count": null,
      "outputs": [
        {
          "output_type": "execute_result",
          "data": {
            "text/plain": [
              "0.8240000000000001"
            ]
          },
          "metadata": {
            "tags": []
          },
          "execution_count": 134
        }
      ]
    },
    {
      "cell_type": "code",
      "metadata": {
        "id": "AYsQK4AcOldB",
        "colab": {
          "base_uri": "https://localhost:8080/",
          "height": 458
        },
        "outputId": "b152cb59-d137-4b54-d73c-a4ae5eec2cc0"
      },
      "source": [
        "pl.figure(figsize = (9, 6))\n",
        "plot_decision_region(alpha, X, rbf_kernel) \n",
        "plot_data(X, y)"
      ],
      "execution_count": null,
      "outputs": [
        {
          "output_type": "stream",
          "text": [
            "'c' argument looks like a single numeric RGB or RGBA sequence, which should be avoided as value-mapping will have precedence in case its length matches with 'x' & 'y'.  Please use a 2-D array with a single row if you really want to specify the same RGB or RGBA value for all points.\n",
            "'c' argument looks like a single numeric RGB or RGBA sequence, which should be avoided as value-mapping will have precedence in case its length matches with 'x' & 'y'.  Please use a 2-D array with a single row if you really want to specify the same RGB or RGBA value for all points.\n"
          ],
          "name": "stderr"
        },
        {
          "output_type": "display_data",
          "data": {
            "image/png": "[encoded data removed]",
            "text/plain": [
              "<Figure size 648x432 with 2 Axes>"
            ]
          },
          "metadata": {
            "tags": [],
            "needs_background": "light"
          }
        }
      ]
    },
    {
      "cell_type": "markdown",
      "metadata": {
        "id": "LXO8Dj3euAu0"
      },
      "source": [
        "### Discuss\n",
        "\n",
        "We have trained two binary data sets, one made of moons and another of circles, with three different Logistic Kernels (Linear, 3-deg polynomial, Gaussian). The accuracy on the trained points are shown in the following table. \n",
        "\n",
        "| | Accuracy | | |\n",
        "|---|:-:|:-:|:-:|\n",
        "|**Data**   |Linear|3-Polynomial |Gaussian|\n",
        "|Moons|  87.2 |  90.2 | 96.8 |\n",
        "|Circles|  49.2 | 83.2  | 82.4 | \n",
        "\n",
        "In the plot of moons with linear Kernel we observe some simmetry between the points, the arcs are equally spaced to the boundary line, that is expected because in the logistic classification we expect all points not to be far the boundary line (Maximizing the cross-entropy). We also note that for the linear classification of circles even though the accuracy is not very good, the model tries that all points are not too far from the boundary. \n",
        "\n",
        "We observe that the 3-deg polynomial and Gausssian Kernels perform decently and almost the same in the data, and they have also some sort of simmetry which tries to minimize the distance of the points to the boundaries. "
      ]
    }
  ]
}